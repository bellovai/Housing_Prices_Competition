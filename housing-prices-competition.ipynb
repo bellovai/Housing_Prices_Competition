{
 "cells": [
  {
   "cell_type": "markdown",
   "id": "30dc1f45",
   "metadata": {
    "papermill": {
     "duration": 0.023073,
     "end_time": "2022-03-15T13:09:41.088947",
     "exception": false,
     "start_time": "2022-03-15T13:09:41.065874",
     "status": "completed"
    },
    "tags": []
   },
   "source": [
    "**This notebook is an exercise in the [Introduction to Machine Learning](https://www.kaggle.com/learn/intro-to-machine-learning) course.  You can reference the tutorial at [this link](https://www.kaggle.com/alexisbcook/machine-learning-competitions).**\n",
    "\n",
    "---\n"
   ]
  },
  {
   "cell_type": "markdown",
   "id": "ecb22db9",
   "metadata": {
    "papermill": {
     "duration": 0.014487,
     "end_time": "2022-03-15T13:09:41.119011",
     "exception": false,
     "start_time": "2022-03-15T13:09:41.104524",
     "status": "completed"
    },
    "tags": []
   },
   "source": [
    "# Introduction\n",
    "\n",
    "* You will create and submit predictions for a Kaggle competition. \n",
    "* You can improve your model by adding features and other optimizations.\n",
    "* Begin by running the code cell below to set up code checking and the filepaths for the dataset."
   ]
  },
  {
   "cell_type": "code",
   "execution_count": 1,
   "id": "3109fc0d",
   "metadata": {
    "execution": {
     "iopub.execute_input": "2022-03-15T13:09:41.158461Z",
     "iopub.status.busy": "2022-03-15T13:09:41.157952Z",
     "iopub.status.idle": "2022-03-15T13:09:41.214288Z",
     "shell.execute_reply": "2022-03-15T13:09:41.213684Z",
     "shell.execute_reply.started": "2022-03-15T12:51:56.681201Z"
    },
    "papermill": {
     "duration": 0.080405,
     "end_time": "2022-03-15T13:09:41.214443",
     "exception": false,
     "start_time": "2022-03-15T13:09:41.134038",
     "status": "completed"
    },
    "tags": []
   },
   "outputs": [],
   "source": [
    "# Set up code checking\n",
    "from learntools.core import binder\n",
    "binder.bind(globals())\n",
    "from learntools.machine_learning.ex7 import *\n",
    "\n",
    "# Set up filepaths\n",
    "import os\n",
    "if not os.path.exists(\"../input/train.csv\"):\n",
    "    os.symlink(\"../input/home-data-for-ml-course/train.csv\", \"../input/train.csv\")  \n",
    "    os.symlink(\"../input/home-data-for-ml-course/test.csv\", \"../input/test.csv\") "
   ]
  },
  {
   "cell_type": "markdown",
   "id": "e4e6765c",
   "metadata": {
    "papermill": {
     "duration": 0.013913,
     "end_time": "2022-03-15T13:09:41.243388",
     "exception": false,
     "start_time": "2022-03-15T13:09:41.229475",
     "status": "completed"
    },
    "tags": []
   },
   "source": [
    "# Model for Training Data\n",
    "\n",
    "* Train a Random Forest model on **`train_X`** and **`train_y`**.  "
   ]
  },
  {
   "cell_type": "code",
   "execution_count": 2,
   "id": "a0d09f95",
   "metadata": {
    "execution": {
     "iopub.execute_input": "2022-03-15T13:09:41.277033Z",
     "iopub.status.busy": "2022-03-15T13:09:41.276463Z",
     "iopub.status.idle": "2022-03-15T13:09:42.708981Z",
     "shell.execute_reply": "2022-03-15T13:09:42.708511Z",
     "shell.execute_reply.started": "2022-03-15T12:55:19.217558Z"
    },
    "papermill": {
     "duration": 1.45149,
     "end_time": "2022-03-15T13:09:42.709096",
     "exception": false,
     "start_time": "2022-03-15T13:09:41.257606",
     "status": "completed"
    },
    "tags": []
   },
   "outputs": [],
   "source": [
    "# Import packages\n",
    "import pandas as pd\n",
    "from sklearn.ensemble import RandomForestRegressor\n",
    "from sklearn.metrics import mean_absolute_error\n",
    "from sklearn.model_selection import train_test_split"
   ]
  },
  {
   "cell_type": "code",
   "execution_count": 3,
   "id": "30cd966f",
   "metadata": {
    "execution": {
     "iopub.execute_input": "2022-03-15T13:09:42.741089Z",
     "iopub.status.busy": "2022-03-15T13:09:42.740537Z",
     "iopub.status.idle": "2022-03-15T13:09:42.789068Z",
     "shell.execute_reply": "2022-03-15T13:09:42.788633Z",
     "shell.execute_reply.started": "2022-03-15T12:55:30.546745Z"
    },
    "papermill": {
     "duration": 0.065671,
     "end_time": "2022-03-15T13:09:42.789184",
     "exception": false,
     "start_time": "2022-03-15T13:09:42.723513",
     "status": "completed"
    },
    "tags": []
   },
   "outputs": [],
   "source": [
    "# Import training data\n",
    "iowa_file_path = '../input/train.csv'\n",
    "home_data = pd.read_csv(iowa_file_path)"
   ]
  },
  {
   "cell_type": "code",
   "execution_count": 4,
   "id": "1c00f86e",
   "metadata": {
    "execution": {
     "iopub.execute_input": "2022-03-15T13:09:42.827468Z",
     "iopub.status.busy": "2022-03-15T13:09:42.826832Z",
     "iopub.status.idle": "2022-03-15T13:09:42.829636Z",
     "shell.execute_reply": "2022-03-15T13:09:42.830076Z"
    },
    "papermill": {
     "duration": 0.026597,
     "end_time": "2022-03-15T13:09:42.830225",
     "exception": false,
     "start_time": "2022-03-15T13:09:42.803628",
     "status": "completed"
    },
    "tags": []
   },
   "outputs": [],
   "source": [
    "# Define target\n",
    "y = home_data.SalePrice"
   ]
  },
  {
   "cell_type": "code",
   "execution_count": 5,
   "id": "e1b7c4fe",
   "metadata": {
    "execution": {
     "iopub.execute_input": "2022-03-15T13:09:42.876658Z",
     "iopub.status.busy": "2022-03-15T13:09:42.876027Z",
     "iopub.status.idle": "2022-03-15T13:09:42.879497Z",
     "shell.execute_reply": "2022-03-15T13:09:42.880197Z"
    },
    "papermill": {
     "duration": 0.033294,
     "end_time": "2022-03-15T13:09:42.880366",
     "exception": false,
     "start_time": "2022-03-15T13:09:42.847072",
     "status": "completed"
    },
    "tags": []
   },
   "outputs": [],
   "source": [
    "# Define features\n",
    "features = ['MSSubClass', 'LotArea', 'OverallQual', 'OverallCond', 'YearBuilt', 'YearRemodAdd', '1stFlrSF', '2ndFlrSF', 'LowQualFinSF', 'GrLivArea', 'FullBath', 'HalfBath', 'KitchenAbvGr', 'Fireplaces', '3SsnPorch', 'ScreenPorch', 'PoolArea', 'MiscVal']\n",
    "X = home_data[features]"
   ]
  },
  {
   "cell_type": "code",
   "execution_count": 6,
   "id": "a8e60617",
   "metadata": {
    "execution": {
     "iopub.execute_input": "2022-03-15T13:09:42.928647Z",
     "iopub.status.busy": "2022-03-15T13:09:42.927839Z",
     "iopub.status.idle": "2022-03-15T13:09:42.947216Z",
     "shell.execute_reply": "2022-03-15T13:09:42.947742Z"
    },
    "papermill": {
     "duration": 0.044665,
     "end_time": "2022-03-15T13:09:42.947908",
     "exception": false,
     "start_time": "2022-03-15T13:09:42.903243",
     "status": "completed"
    },
    "tags": []
   },
   "outputs": [
    {
     "data": {
      "text/html": [
       "<div>\n",
       "<style scoped>\n",
       "    .dataframe tbody tr th:only-of-type {\n",
       "        vertical-align: middle;\n",
       "    }\n",
       "\n",
       "    .dataframe tbody tr th {\n",
       "        vertical-align: top;\n",
       "    }\n",
       "\n",
       "    .dataframe thead th {\n",
       "        text-align: right;\n",
       "    }\n",
       "</style>\n",
       "<table border=\"1\" class=\"dataframe\">\n",
       "  <thead>\n",
       "    <tr style=\"text-align: right;\">\n",
       "      <th></th>\n",
       "      <th>MSSubClass</th>\n",
       "      <th>LotArea</th>\n",
       "      <th>OverallQual</th>\n",
       "      <th>OverallCond</th>\n",
       "      <th>YearBuilt</th>\n",
       "      <th>YearRemodAdd</th>\n",
       "      <th>1stFlrSF</th>\n",
       "      <th>2ndFlrSF</th>\n",
       "      <th>LowQualFinSF</th>\n",
       "      <th>GrLivArea</th>\n",
       "      <th>FullBath</th>\n",
       "      <th>HalfBath</th>\n",
       "      <th>KitchenAbvGr</th>\n",
       "      <th>Fireplaces</th>\n",
       "      <th>3SsnPorch</th>\n",
       "      <th>ScreenPorch</th>\n",
       "      <th>PoolArea</th>\n",
       "      <th>MiscVal</th>\n",
       "    </tr>\n",
       "  </thead>\n",
       "  <tbody>\n",
       "    <tr>\n",
       "      <th>0</th>\n",
       "      <td>60</td>\n",
       "      <td>8450</td>\n",
       "      <td>7</td>\n",
       "      <td>5</td>\n",
       "      <td>2003</td>\n",
       "      <td>2003</td>\n",
       "      <td>856</td>\n",
       "      <td>854</td>\n",
       "      <td>0</td>\n",
       "      <td>1710</td>\n",
       "      <td>2</td>\n",
       "      <td>1</td>\n",
       "      <td>1</td>\n",
       "      <td>0</td>\n",
       "      <td>0</td>\n",
       "      <td>0</td>\n",
       "      <td>0</td>\n",
       "      <td>0</td>\n",
       "    </tr>\n",
       "    <tr>\n",
       "      <th>1</th>\n",
       "      <td>20</td>\n",
       "      <td>9600</td>\n",
       "      <td>6</td>\n",
       "      <td>8</td>\n",
       "      <td>1976</td>\n",
       "      <td>1976</td>\n",
       "      <td>1262</td>\n",
       "      <td>0</td>\n",
       "      <td>0</td>\n",
       "      <td>1262</td>\n",
       "      <td>2</td>\n",
       "      <td>0</td>\n",
       "      <td>1</td>\n",
       "      <td>1</td>\n",
       "      <td>0</td>\n",
       "      <td>0</td>\n",
       "      <td>0</td>\n",
       "      <td>0</td>\n",
       "    </tr>\n",
       "    <tr>\n",
       "      <th>2</th>\n",
       "      <td>60</td>\n",
       "      <td>11250</td>\n",
       "      <td>7</td>\n",
       "      <td>5</td>\n",
       "      <td>2001</td>\n",
       "      <td>2002</td>\n",
       "      <td>920</td>\n",
       "      <td>866</td>\n",
       "      <td>0</td>\n",
       "      <td>1786</td>\n",
       "      <td>2</td>\n",
       "      <td>1</td>\n",
       "      <td>1</td>\n",
       "      <td>1</td>\n",
       "      <td>0</td>\n",
       "      <td>0</td>\n",
       "      <td>0</td>\n",
       "      <td>0</td>\n",
       "    </tr>\n",
       "    <tr>\n",
       "      <th>3</th>\n",
       "      <td>70</td>\n",
       "      <td>9550</td>\n",
       "      <td>7</td>\n",
       "      <td>5</td>\n",
       "      <td>1915</td>\n",
       "      <td>1970</td>\n",
       "      <td>961</td>\n",
       "      <td>756</td>\n",
       "      <td>0</td>\n",
       "      <td>1717</td>\n",
       "      <td>1</td>\n",
       "      <td>0</td>\n",
       "      <td>1</td>\n",
       "      <td>1</td>\n",
       "      <td>0</td>\n",
       "      <td>0</td>\n",
       "      <td>0</td>\n",
       "      <td>0</td>\n",
       "    </tr>\n",
       "    <tr>\n",
       "      <th>4</th>\n",
       "      <td>60</td>\n",
       "      <td>14260</td>\n",
       "      <td>8</td>\n",
       "      <td>5</td>\n",
       "      <td>2000</td>\n",
       "      <td>2000</td>\n",
       "      <td>1145</td>\n",
       "      <td>1053</td>\n",
       "      <td>0</td>\n",
       "      <td>2198</td>\n",
       "      <td>2</td>\n",
       "      <td>1</td>\n",
       "      <td>1</td>\n",
       "      <td>1</td>\n",
       "      <td>0</td>\n",
       "      <td>0</td>\n",
       "      <td>0</td>\n",
       "      <td>0</td>\n",
       "    </tr>\n",
       "  </tbody>\n",
       "</table>\n",
       "</div>"
      ],
      "text/plain": [
       "   MSSubClass  LotArea  OverallQual  OverallCond  YearBuilt  YearRemodAdd  \\\n",
       "0          60     8450            7            5       2003          2003   \n",
       "1          20     9600            6            8       1976          1976   \n",
       "2          60    11250            7            5       2001          2002   \n",
       "3          70     9550            7            5       1915          1970   \n",
       "4          60    14260            8            5       2000          2000   \n",
       "\n",
       "   1stFlrSF  2ndFlrSF  LowQualFinSF  GrLivArea  FullBath  HalfBath  \\\n",
       "0       856       854             0       1710         2         1   \n",
       "1      1262         0             0       1262         2         0   \n",
       "2       920       866             0       1786         2         1   \n",
       "3       961       756             0       1717         1         0   \n",
       "4      1145      1053             0       2198         2         1   \n",
       "\n",
       "   KitchenAbvGr  Fireplaces  3SsnPorch  ScreenPorch  PoolArea  MiscVal  \n",
       "0             1           0          0            0         0        0  \n",
       "1             1           1          0            0         0        0  \n",
       "2             1           1          0            0         0        0  \n",
       "3             1           1          0            0         0        0  \n",
       "4             1           1          0            0         0        0  "
      ]
     },
     "execution_count": 6,
     "metadata": {},
     "output_type": "execute_result"
    }
   ],
   "source": [
    "# Output results\n",
    "X.head()"
   ]
  },
  {
   "cell_type": "code",
   "execution_count": 7,
   "id": "88c60760",
   "metadata": {
    "execution": {
     "iopub.execute_input": "2022-03-15T13:09:42.997976Z",
     "iopub.status.busy": "2022-03-15T13:09:42.997302Z",
     "iopub.status.idle": "2022-03-15T13:09:43.001627Z",
     "shell.execute_reply": "2022-03-15T13:09:43.002114Z"
    },
    "papermill": {
     "duration": 0.030656,
     "end_time": "2022-03-15T13:09:43.002278",
     "exception": false,
     "start_time": "2022-03-15T13:09:42.971622",
     "status": "completed"
    },
    "tags": []
   },
   "outputs": [],
   "source": [
    "# Split into training and validation data\n",
    "train_X, val_X, train_y, val_y = train_test_split(X, y, random_state=1)"
   ]
  },
  {
   "cell_type": "code",
   "execution_count": 8,
   "id": "d3f738c6",
   "metadata": {
    "execution": {
     "iopub.execute_input": "2022-03-15T13:09:43.052837Z",
     "iopub.status.busy": "2022-03-15T13:09:43.051814Z",
     "iopub.status.idle": "2022-03-15T13:09:43.604834Z",
     "shell.execute_reply": "2022-03-15T13:09:43.605331Z",
     "shell.execute_reply.started": "2022-03-09T15:07:45.980165Z"
    },
    "papermill": {
     "duration": 0.57994,
     "end_time": "2022-03-15T13:09:43.605500",
     "exception": false,
     "start_time": "2022-03-15T13:09:43.025560",
     "status": "completed"
    },
    "tags": []
   },
   "outputs": [],
   "source": [
    "# Define, fit and evaluate model\n",
    "rf_model = RandomForestRegressor(random_state=1)\n",
    "rf_model.fit(train_X, train_y)\n",
    "rf_val_predictions = rf_model.predict(val_X) \n",
    "rf_val_mae = mean_absolute_error(rf_val_predictions, val_y)"
   ]
  },
  {
   "cell_type": "code",
   "execution_count": 9,
   "id": "de0126cf",
   "metadata": {
    "execution": {
     "iopub.execute_input": "2022-03-15T13:09:43.642136Z",
     "iopub.status.busy": "2022-03-15T13:09:43.641573Z",
     "iopub.status.idle": "2022-03-15T13:09:43.643709Z",
     "shell.execute_reply": "2022-03-15T13:09:43.644107Z"
    },
    "papermill": {
     "duration": 0.022592,
     "end_time": "2022-03-15T13:09:43.644242",
     "exception": false,
     "start_time": "2022-03-15T13:09:43.621650",
     "status": "completed"
    },
    "tags": []
   },
   "outputs": [
    {
     "name": "stdout",
     "output_type": "stream",
     "text": [
      "Validation MAE for Random Forest Model: 16,927\n"
     ]
    }
   ],
   "source": [
    "# Output results\n",
    "print(\"Validation MAE for Random Forest Model: {:,.0f}\".format(rf_val_mae))"
   ]
  },
  {
   "cell_type": "markdown",
   "id": "dbf4857e",
   "metadata": {
    "papermill": {
     "duration": 0.015595,
     "end_time": "2022-03-15T13:09:43.675954",
     "exception": false,
     "start_time": "2022-03-15T13:09:43.660359",
     "status": "completed"
    },
    "tags": []
   },
   "source": [
    "# Model for all Data\n",
    "\n",
    "* Train a Random Forest model on all of **`X`** and **`y`**."
   ]
  },
  {
   "cell_type": "code",
   "execution_count": 10,
   "id": "2c4ea53b",
   "metadata": {
    "execution": {
     "iopub.execute_input": "2022-03-15T13:09:43.711386Z",
     "iopub.status.busy": "2022-03-15T13:09:43.710900Z",
     "iopub.status.idle": "2022-03-15T13:09:44.464519Z",
     "shell.execute_reply": "2022-03-15T13:09:44.464901Z",
     "shell.execute_reply.started": "2022-03-09T15:07:48.121708Z"
    },
    "papermill": {
     "duration": 0.772053,
     "end_time": "2022-03-15T13:09:44.465036",
     "exception": false,
     "start_time": "2022-03-15T13:09:43.692983",
     "status": "completed"
    },
    "tags": []
   },
   "outputs": [
    {
     "data": {
      "text/plain": [
       "RandomForestRegressor(random_state=1)"
      ]
     },
     "execution_count": 10,
     "metadata": {},
     "output_type": "execute_result"
    }
   ],
   "source": [
    "# Define and fit model on all data from the training data\n",
    "rf_model_on_full_data = RandomForestRegressor(random_state=1)\n",
    "rf_model_on_full_data.fit(X, y)"
   ]
  },
  {
   "cell_type": "code",
   "execution_count": 11,
   "id": "85afe705",
   "metadata": {
    "execution": {
     "iopub.execute_input": "2022-03-15T13:09:44.501931Z",
     "iopub.status.busy": "2022-03-15T13:09:44.501380Z",
     "iopub.status.idle": "2022-03-15T13:09:44.540445Z",
     "shell.execute_reply": "2022-03-15T13:09:44.539777Z",
     "shell.execute_reply.started": "2022-03-09T15:07:48.921435Z"
    },
    "papermill": {
     "duration": 0.059543,
     "end_time": "2022-03-15T13:09:44.540584",
     "exception": false,
     "start_time": "2022-03-15T13:09:44.481041",
     "status": "completed"
    },
    "tags": []
   },
   "outputs": [],
   "source": [
    "# Import test data\n",
    "test_data_path = '../input/test.csv'\n",
    "test_data = pd.read_csv(test_data_path)"
   ]
  },
  {
   "cell_type": "code",
   "execution_count": 12,
   "id": "8f208d7d",
   "metadata": {
    "execution": {
     "iopub.execute_input": "2022-03-15T13:09:44.595445Z",
     "iopub.status.busy": "2022-03-15T13:09:44.594805Z",
     "iopub.status.idle": "2022-03-15T13:09:44.598503Z",
     "shell.execute_reply": "2022-03-15T13:09:44.599046Z"
    },
    "papermill": {
     "duration": 0.033973,
     "end_time": "2022-03-15T13:09:44.599214",
     "exception": false,
     "start_time": "2022-03-15T13:09:44.565241",
     "status": "completed"
    },
    "tags": []
   },
   "outputs": [],
   "source": [
    "# Define features\n",
    "test_X = test_data[features]"
   ]
  },
  {
   "cell_type": "code",
   "execution_count": 13,
   "id": "11837e9b",
   "metadata": {
    "execution": {
     "iopub.execute_input": "2022-03-15T13:09:44.654265Z",
     "iopub.status.busy": "2022-03-15T13:09:44.653576Z",
     "iopub.status.idle": "2022-03-15T13:09:44.685811Z",
     "shell.execute_reply": "2022-03-15T13:09:44.686357Z"
    },
    "papermill": {
     "duration": 0.062011,
     "end_time": "2022-03-15T13:09:44.686521",
     "exception": false,
     "start_time": "2022-03-15T13:09:44.624510",
     "status": "completed"
    },
    "tags": []
   },
   "outputs": [],
   "source": [
    "# Make predictions\n",
    "test_preds = rf_model_on_full_data.predict(test_X)"
   ]
  },
  {
   "cell_type": "code",
   "execution_count": 14,
   "id": "bff5854a",
   "metadata": {
    "execution": {
     "iopub.execute_input": "2022-03-15T13:09:44.740067Z",
     "iopub.status.busy": "2022-03-15T13:09:44.739259Z",
     "iopub.status.idle": "2022-03-15T13:09:44.745070Z",
     "shell.execute_reply": "2022-03-15T13:09:44.745616Z",
     "shell.execute_reply.started": "2022-03-09T15:07:49.00135Z"
    },
    "papermill": {
     "duration": 0.034238,
     "end_time": "2022-03-15T13:09:44.745826",
     "exception": false,
     "start_time": "2022-03-15T13:09:44.711588",
     "status": "completed"
    },
    "tags": []
   },
   "outputs": [
    {
     "data": {
      "application/javascript": [
       "parent.postMessage({\"jupyterEvent\": \"custom.exercise_interaction\", \"data\": {\"outcomeType\": 1, \"valueTowardsCompletion\": 1.0, \"interactionType\": 1, \"questionType\": 2, \"questionId\": \"1_CheckSubmittablePreds\", \"learnToolsVersion\": \"0.3.4\", \"failureMessage\": \"\", \"exceptionClass\": \"\", \"trace\": \"\"}}, \"*\")"
      ],
      "text/plain": [
       "<IPython.core.display.Javascript object>"
      ]
     },
     "metadata": {},
     "output_type": "display_data"
    },
    {
     "data": {
      "text/markdown": [
       "<span style=\"color:#33cc33\">Correct</span>"
      ],
      "text/plain": [
       "Correct"
      ]
     },
     "metadata": {},
     "output_type": "display_data"
    }
   ],
   "source": [
    "# Check answer\n",
    "step_1.check()"
   ]
  },
  {
   "cell_type": "code",
   "execution_count": 15,
   "id": "33186424",
   "metadata": {
    "execution": {
     "iopub.execute_input": "2022-03-15T13:09:44.802587Z",
     "iopub.status.busy": "2022-03-15T13:09:44.801966Z",
     "iopub.status.idle": "2022-03-15T13:09:44.813545Z",
     "shell.execute_reply": "2022-03-15T13:09:44.812877Z",
     "shell.execute_reply.started": "2022-03-09T15:07:49.011733Z"
    },
    "papermill": {
     "duration": 0.041122,
     "end_time": "2022-03-15T13:09:44.813680",
     "exception": false,
     "start_time": "2022-03-15T13:09:44.772558",
     "status": "completed"
    },
    "tags": []
   },
   "outputs": [],
   "source": [
    "# Save predictions in correct format\n",
    "output = pd.DataFrame({'Id': test_data.Id, 'SalePrice': test_preds})\n",
    "output.to_csv('submission.csv', index=False)"
   ]
  },
  {
   "cell_type": "markdown",
   "id": "dc138ee2",
   "metadata": {
    "papermill": {
     "duration": 0.026537,
     "end_time": "2022-03-15T13:09:44.867454",
     "exception": false,
     "start_time": "2022-03-15T13:09:44.840917",
     "status": "completed"
    },
    "tags": []
   },
   "source": [
    "---\n",
    "\n",
    "\n",
    "\n",
    "\n",
    "*Have questions or comments? Visit the [course discussion forum](https://www.kaggle.com/learn/intro-to-machine-learning/discussion) to chat with other learners.*"
   ]
  }
 ],
 "metadata": {
  "kernelspec": {
   "display_name": "Python 3",
   "language": "python",
   "name": "python3"
  },
  "language_info": {
   "codemirror_mode": {
    "name": "ipython",
    "version": 3
   },
   "file_extension": ".py",
   "mimetype": "text/x-python",
   "name": "python",
   "nbconvert_exporter": "python",
   "pygments_lexer": "ipython3",
   "version": "3.7.12"
  },
  "papermill": {
   "default_parameters": {},
   "duration": 13.862419,
   "end_time": "2022-03-15T13:09:45.704953",
   "environment_variables": {},
   "exception": null,
   "input_path": "__notebook__.ipynb",
   "output_path": "__notebook__.ipynb",
   "parameters": {},
   "start_time": "2022-03-15T13:09:31.842534",
   "version": "2.3.3"
  }
 },
 "nbformat": 4,
 "nbformat_minor": 5
}
