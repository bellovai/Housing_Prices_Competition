{
 "cells": [
  {
   "cell_type": "markdown",
   "id": "4b0fdac3",
   "metadata": {
    "papermill": {
     "duration": 0.010079,
     "end_time": "2022-03-09T15:12:16.656005",
     "exception": false,
     "start_time": "2022-03-09T15:12:16.645926",
     "status": "completed"
    },
    "tags": []
   },
   "source": [
    "**This notebook is an exercise in the [Introduction to Machine Learning](https://www.kaggle.com/learn/intro-to-machine-learning) course.  You can reference the tutorial at [this link](https://www.kaggle.com/alexisbcook/machine-learning-competitions).**\n",
    "\n",
    "---\n"
   ]
  },
  {
   "cell_type": "markdown",
   "id": "d6ec34be",
   "metadata": {
    "papermill": {
     "duration": 0.00886,
     "end_time": "2022-03-09T15:12:16.674069",
     "exception": false,
     "start_time": "2022-03-09T15:12:16.665209",
     "status": "completed"
    },
    "tags": []
   },
   "source": [
    "# Introduction\n",
    "\n",
    "In this exercise, you will create and submit predictions for a Kaggle competition. You can then improve your model (e.g. by adding features) to apply what you've learned and move up the leaderboard.\n",
    "\n",
    "Begin by running the code cell below to set up code checking and the filepaths for the dataset."
   ]
  },
  {
   "cell_type": "code",
   "execution_count": 1,
   "id": "648c5dba",
   "metadata": {
    "execution": {
     "iopub.execute_input": "2022-03-09T15:12:16.697701Z",
     "iopub.status.busy": "2022-03-09T15:12:16.696041Z",
     "iopub.status.idle": "2022-03-09T15:12:16.737283Z",
     "shell.execute_reply": "2022-03-09T15:12:16.737773Z",
     "shell.execute_reply.started": "2022-03-09T15:07:45.901327Z"
    },
    "papermill": {
     "duration": 0.055104,
     "end_time": "2022-03-09T15:12:16.738076",
     "exception": false,
     "start_time": "2022-03-09T15:12:16.682972",
     "status": "completed"
    },
    "tags": []
   },
   "outputs": [],
   "source": [
    "# Set up code checking\n",
    "from learntools.core import binder\n",
    "binder.bind(globals())\n",
    "from learntools.machine_learning.ex7 import *\n",
    "\n",
    "# Set up filepaths\n",
    "import os\n",
    "if not os.path.exists(\"../input/train.csv\"):\n",
    "    os.symlink(\"../input/home-data-for-ml-course/train.csv\", \"../input/train.csv\")  \n",
    "    os.symlink(\"../input/home-data-for-ml-course/test.csv\", \"../input/test.csv\") "
   ]
  },
  {
   "cell_type": "markdown",
   "id": "85ae1891",
   "metadata": {
    "papermill": {
     "duration": 0.008645,
     "end_time": "2022-03-09T15:12:16.755799",
     "exception": false,
     "start_time": "2022-03-09T15:12:16.747154",
     "status": "completed"
    },
    "tags": []
   },
   "source": [
    "# Main"
   ]
  },
  {
   "cell_type": "code",
   "execution_count": 2,
   "id": "60bc9e4d",
   "metadata": {
    "execution": {
     "iopub.execute_input": "2022-03-09T15:12:16.776972Z",
     "iopub.status.busy": "2022-03-09T15:12:16.776107Z",
     "iopub.status.idle": "2022-03-09T15:12:18.656672Z",
     "shell.execute_reply": "2022-03-09T15:12:18.657120Z",
     "shell.execute_reply.started": "2022-03-09T15:07:45.980165Z"
    },
    "papermill": {
     "duration": 1.892559,
     "end_time": "2022-03-09T15:12:18.657282",
     "exception": false,
     "start_time": "2022-03-09T15:12:16.764723",
     "status": "completed"
    },
    "tags": []
   },
   "outputs": [
    {
     "name": "stdout",
     "output_type": "stream",
     "text": [
      "Validation MAE for Random Forest Model: 16,927\n"
     ]
    }
   ],
   "source": [
    "# Import helpful libraries\n",
    "import pandas as pd\n",
    "from sklearn.ensemble import RandomForestRegressor\n",
    "from sklearn.metrics import mean_absolute_error\n",
    "from sklearn.model_selection import train_test_split\n",
    "\n",
    "# Load the data, and separate the target\n",
    "iowa_file_path = '../input/train.csv'\n",
    "home_data = pd.read_csv(iowa_file_path)\n",
    "y = home_data.SalePrice\n",
    "\n",
    "# Create X\n",
    "features = ['MSSubClass', 'LotArea', 'OverallQual', 'OverallCond', 'YearBuilt', 'YearRemodAdd', '1stFlrSF', '2ndFlrSF', 'LowQualFinSF', 'GrLivArea', 'FullBath', 'HalfBath', 'KitchenAbvGr', 'Fireplaces', '3SsnPorch', 'ScreenPorch', 'PoolArea', 'MiscVal']\n",
    "\n",
    "# Select columns corresponding to features, and preview the data\n",
    "X = home_data[features]\n",
    "X.head()\n",
    "\n",
    "# Split into validation and training data\n",
    "train_X, val_X, train_y, val_y = train_test_split(X, y, random_state=1)\n",
    "\n",
    "# Define a random forest model\n",
    "rf_model = RandomForestRegressor(random_state=1)\n",
    "rf_model.fit(train_X, train_y)\n",
    "rf_val_predictions = rf_model.predict(val_X)\n",
    "rf_val_mae = mean_absolute_error(rf_val_predictions, val_y)\n",
    "\n",
    "print(\"Validation MAE for Random Forest Model: {:,.0f}\".format(rf_val_mae))"
   ]
  },
  {
   "cell_type": "markdown",
   "id": "f6cbbe0e",
   "metadata": {
    "papermill": {
     "duration": 0.009228,
     "end_time": "2022-03-09T15:12:18.676473",
     "exception": false,
     "start_time": "2022-03-09T15:12:18.667245",
     "status": "completed"
    },
    "tags": []
   },
   "source": [
    "# Train the model for the competition\n",
    "\n",
    "The code cell above trains a Random Forest model on **`train_X`** and **`train_y`**.  \n",
    "\n",
    "Use the code cell below to build a Random Forest model and train it on all of **`X`** and **`y`**."
   ]
  },
  {
   "cell_type": "code",
   "execution_count": 3,
   "id": "203dbbf1",
   "metadata": {
    "execution": {
     "iopub.execute_input": "2022-03-09T15:12:18.698431Z",
     "iopub.status.busy": "2022-03-09T15:12:18.697819Z",
     "iopub.status.idle": "2022-03-09T15:12:19.436386Z",
     "shell.execute_reply": "2022-03-09T15:12:19.435931Z",
     "shell.execute_reply.started": "2022-03-09T15:07:48.121708Z"
    },
    "papermill": {
     "duration": 0.750569,
     "end_time": "2022-03-09T15:12:19.436519",
     "exception": false,
     "start_time": "2022-03-09T15:12:18.685950",
     "status": "completed"
    },
    "tags": []
   },
   "outputs": [
    {
     "data": {
      "text/plain": [
       "RandomForestRegressor(random_state=1)"
      ]
     },
     "execution_count": 3,
     "metadata": {},
     "output_type": "execute_result"
    }
   ],
   "source": [
    "# To improve accuracy, create a new Random Forest model which you will train on all training data\n",
    "rf_model_on_full_data = RandomForestRegressor(random_state=1)\n",
    "\n",
    "# Fit rf_model_on_full_data on all data from the training data\n",
    "rf_model_on_full_data.fit(X, y)"
   ]
  },
  {
   "cell_type": "markdown",
   "id": "b4e66692",
   "metadata": {
    "papermill": {
     "duration": 0.009835,
     "end_time": "2022-03-09T15:12:19.456037",
     "exception": false,
     "start_time": "2022-03-09T15:12:19.446202",
     "status": "completed"
    },
    "tags": []
   },
   "source": [
    "Now, read the file of \"test\" data, and apply your model to make predictions."
   ]
  },
  {
   "cell_type": "code",
   "execution_count": 4,
   "id": "48226c72",
   "metadata": {
    "execution": {
     "iopub.execute_input": "2022-03-09T15:12:19.480299Z",
     "iopub.status.busy": "2022-03-09T15:12:19.479674Z",
     "iopub.status.idle": "2022-03-09T15:12:19.543962Z",
     "shell.execute_reply": "2022-03-09T15:12:19.543486Z",
     "shell.execute_reply.started": "2022-03-09T15:07:48.921435Z"
    },
    "papermill": {
     "duration": 0.07847,
     "end_time": "2022-03-09T15:12:19.544129",
     "exception": false,
     "start_time": "2022-03-09T15:12:19.465659",
     "status": "completed"
    },
    "tags": []
   },
   "outputs": [],
   "source": [
    "# path to file you will use for predictions\n",
    "test_data_path = '../input/test.csv'\n",
    "\n",
    "# read test data file using pandas\n",
    "test_data = pd.read_csv(test_data_path)\n",
    "\n",
    "# create test_X which comes from test_data but includes only the columns you used for prediction.\n",
    "# The list of columns is stored in a variable called features\n",
    "test_X = test_data[features]\n",
    "\n",
    "# make predictions which we will submit. \n",
    "test_preds = rf_model_on_full_data.predict(test_X)"
   ]
  },
  {
   "cell_type": "markdown",
   "id": "edabef96",
   "metadata": {
    "papermill": {
     "duration": 0.009425,
     "end_time": "2022-03-09T15:12:19.563340",
     "exception": false,
     "start_time": "2022-03-09T15:12:19.553915",
     "status": "completed"
    },
    "tags": []
   },
   "source": [
    "Before submitting, run a check to make sure your `test_preds` have the right format."
   ]
  },
  {
   "cell_type": "code",
   "execution_count": 5,
   "id": "8b9881fb",
   "metadata": {
    "execution": {
     "iopub.execute_input": "2022-03-09T15:12:19.588269Z",
     "iopub.status.busy": "2022-03-09T15:12:19.587502Z",
     "iopub.status.idle": "2022-03-09T15:12:19.592163Z",
     "shell.execute_reply": "2022-03-09T15:12:19.592554Z",
     "shell.execute_reply.started": "2022-03-09T15:07:49.001350Z"
    },
    "papermill": {
     "duration": 0.019683,
     "end_time": "2022-03-09T15:12:19.592708",
     "exception": false,
     "start_time": "2022-03-09T15:12:19.573025",
     "status": "completed"
    },
    "tags": []
   },
   "outputs": [
    {
     "data": {
      "application/javascript": [
       "parent.postMessage({\"jupyterEvent\": \"custom.exercise_interaction\", \"data\": {\"outcomeType\": 1, \"valueTowardsCompletion\": 1.0, \"interactionType\": 1, \"questionType\": 2, \"questionId\": \"1_CheckSubmittablePreds\", \"learnToolsVersion\": \"0.3.4\", \"failureMessage\": \"\", \"exceptionClass\": \"\", \"trace\": \"\"}}, \"*\")"
      ],
      "text/plain": [
       "<IPython.core.display.Javascript object>"
      ]
     },
     "metadata": {},
     "output_type": "display_data"
    },
    {
     "data": {
      "text/markdown": [
       "<span style=\"color:#33cc33\">Correct</span>"
      ],
      "text/plain": [
       "Correct"
      ]
     },
     "metadata": {},
     "output_type": "display_data"
    }
   ],
   "source": [
    "# Check your answer (To get credit for completing the exercise, you must get a \"Correct\" result!)\n",
    "step_1.check()\n",
    "# step_1.solution()"
   ]
  },
  {
   "cell_type": "markdown",
   "id": "5c890fb0",
   "metadata": {
    "papermill": {
     "duration": 0.01018,
     "end_time": "2022-03-09T15:12:19.613260",
     "exception": false,
     "start_time": "2022-03-09T15:12:19.603080",
     "status": "completed"
    },
    "tags": []
   },
   "source": [
    "# Generate a submission\n",
    "\n",
    "Run the code cell below to generate a CSV file with your predictions that you can use to submit to the competition."
   ]
  },
  {
   "cell_type": "code",
   "execution_count": 6,
   "id": "be508507",
   "metadata": {
    "execution": {
     "iopub.execute_input": "2022-03-09T15:12:19.637109Z",
     "iopub.status.busy": "2022-03-09T15:12:19.636549Z",
     "iopub.status.idle": "2022-03-09T15:12:19.645808Z",
     "shell.execute_reply": "2022-03-09T15:12:19.646371Z",
     "shell.execute_reply.started": "2022-03-09T15:07:49.011733Z"
    },
    "papermill": {
     "duration": 0.022637,
     "end_time": "2022-03-09T15:12:19.646554",
     "exception": false,
     "start_time": "2022-03-09T15:12:19.623917",
     "status": "completed"
    },
    "tags": []
   },
   "outputs": [],
   "source": [
    "# Run the code to save predictions in the format used for competition scoring\n",
    "\n",
    "output = pd.DataFrame({'Id': test_data.Id,\n",
    "                       'SalePrice': test_preds})\n",
    "output.to_csv('submission.csv', index=False)"
   ]
  },
  {
   "cell_type": "markdown",
   "id": "2a0c0cfb",
   "metadata": {
    "papermill": {
     "duration": 0.010218,
     "end_time": "2022-03-09T15:12:19.667485",
     "exception": false,
     "start_time": "2022-03-09T15:12:19.657267",
     "status": "completed"
    },
    "tags": []
   },
   "source": [
    "---\n",
    "\n",
    "\n",
    "\n",
    "\n",
    "*Have questions or comments? Visit the [course discussion forum](https://www.kaggle.com/learn/intro-to-machine-learning/discussion) to chat with other learners.*"
   ]
  }
 ],
 "metadata": {
  "kernelspec": {
   "display_name": "Python 3",
   "language": "python",
   "name": "python3"
  },
  "language_info": {
   "codemirror_mode": {
    "name": "ipython",
    "version": 3
   },
   "file_extension": ".py",
   "mimetype": "text/x-python",
   "name": "python",
   "nbconvert_exporter": "python",
   "pygments_lexer": "ipython3",
   "version": "3.7.12"
  },
  "papermill": {
   "default_parameters": {},
   "duration": 11.975661,
   "end_time": "2022-03-09T15:12:20.387470",
   "environment_variables": {},
   "exception": null,
   "input_path": "__notebook__.ipynb",
   "output_path": "__notebook__.ipynb",
   "parameters": {},
   "start_time": "2022-03-09T15:12:08.411809",
   "version": "2.3.3"
  }
 },
 "nbformat": 4,
 "nbformat_minor": 5
}
