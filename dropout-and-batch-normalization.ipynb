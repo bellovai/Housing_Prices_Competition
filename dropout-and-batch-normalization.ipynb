{
 "cells": [
  {
   "cell_type": "markdown",
   "id": "5589a702",
   "metadata": {
    "papermill": {
     "duration": 0.027625,
     "end_time": "2022-04-04T14:13:30.980197",
     "exception": false,
     "start_time": "2022-04-04T14:13:30.952572",
     "status": "completed"
    },
    "tags": []
   },
   "source": [
    "**This notebook is an exercise in the [Intro to Deep Learning](https://www.kaggle.com/learn/intro-to-deep-learning) course.  You can reference the tutorial at [this link](https://www.kaggle.com/ryanholbrook/dropout-and-batch-normalization).**\n",
    "\n",
    "---\n"
   ]
  },
  {
   "cell_type": "markdown",
   "id": "97866842",
   "metadata": {
    "papermill": {
     "duration": 0.018103,
     "end_time": "2022-04-04T14:13:31.019701",
     "exception": false,
     "start_time": "2022-04-04T14:13:31.001598",
     "status": "completed"
    },
    "tags": []
   },
   "source": [
    "# Introduction #\n",
    "\n",
    "* You will use your new knowledge to train a model with **dropout** and **batch normalization**.\n",
    "* Begin by running the code cell below to set up code checking and the filepaths for the dataset."
   ]
  },
  {
   "cell_type": "code",
   "execution_count": 1,
   "id": "6a623ac3",
   "metadata": {
    "execution": {
     "iopub.execute_input": "2022-04-04T14:13:31.072903Z",
     "iopub.status.busy": "2022-04-04T14:13:31.072106Z",
     "iopub.status.idle": "2022-04-04T14:13:31.102834Z",
     "shell.execute_reply": "2022-04-04T14:13:31.102303Z",
     "shell.execute_reply.started": "2022-04-04T14:09:32.054045Z"
    },
    "papermill": {
     "duration": 0.06345,
     "end_time": "2022-04-04T14:13:31.102975",
     "exception": false,
     "start_time": "2022-04-04T14:13:31.039525",
     "status": "completed"
    },
    "tags": []
   },
   "outputs": [],
   "source": [
    "# Setup plotting\n",
    "import matplotlib.pyplot as plt\n",
    "plt.style.use('seaborn-whitegrid')\n",
    "\n",
    "# Set Matplotlib defaults\n",
    "plt.rc('figure', autolayout=True)\n",
    "plt.rc('axes', labelweight='bold', labelsize='large',\n",
    "       titleweight='bold', titlesize=18, titlepad=10)\n",
    "plt.rc('animation', html='html5')\n",
    "\n",
    "# Setup feedback system\n",
    "from learntools.core import binder\n",
    "binder.bind(globals())\n",
    "from learntools.deep_learning_intro.ex5 import *"
   ]
  },
  {
   "cell_type": "markdown",
   "id": "a72bf9ae",
   "metadata": {
    "papermill": {
     "duration": 0.014076,
     "end_time": "2022-04-04T14:13:31.131466",
     "exception": false,
     "start_time": "2022-04-04T14:13:31.117390",
     "status": "completed"
    },
    "tags": []
   },
   "source": [
    "# Preparation (Dropout)"
   ]
  },
  {
   "cell_type": "code",
   "execution_count": 2,
   "id": "a453235b",
   "metadata": {
    "execution": {
     "iopub.execute_input": "2022-04-04T14:13:31.163863Z",
     "iopub.status.busy": "2022-04-04T14:13:31.161597Z",
     "iopub.status.idle": "2022-04-04T14:13:37.077505Z",
     "shell.execute_reply": "2022-04-04T14:13:37.076641Z",
     "shell.execute_reply.started": "2022-04-04T14:09:32.109289Z"
    },
    "papermill": {
     "duration": 5.932191,
     "end_time": "2022-04-04T14:13:37.077644",
     "exception": false,
     "start_time": "2022-04-04T14:13:31.145453",
     "status": "completed"
    },
    "tags": []
   },
   "outputs": [],
   "source": [
    "# Import packages\n",
    "import pandas as pd\n",
    "from sklearn.preprocessing import StandardScaler, OneHotEncoder\n",
    "from sklearn.compose import make_column_transformer\n",
    "from sklearn.model_selection import GroupShuffleSplit\n",
    "from tensorflow import keras\n",
    "from tensorflow.keras import layers\n",
    "from tensorflow.keras import callbacks"
   ]
  },
  {
   "cell_type": "code",
   "execution_count": 3,
   "id": "6bf7ae31",
   "metadata": {
    "execution": {
     "iopub.execute_input": "2022-04-04T14:13:37.109798Z",
     "iopub.status.busy": "2022-04-04T14:13:37.109015Z",
     "iopub.status.idle": "2022-04-04T14:13:37.435146Z",
     "shell.execute_reply": "2022-04-04T14:13:37.435606Z",
     "shell.execute_reply.started": "2022-04-04T14:09:37.817645Z"
    },
    "papermill": {
     "duration": 0.343513,
     "end_time": "2022-04-04T14:13:37.435778",
     "exception": false,
     "start_time": "2022-04-04T14:13:37.092265",
     "status": "completed"
    },
    "tags": []
   },
   "outputs": [],
   "source": [
    "# Import data\n",
    "spotify = pd.read_csv('../input/dl-course-data/spotify.csv')\n",
    "\n",
    "# Separate target from predictors\n",
    "X = spotify.copy().dropna()\n",
    "y = X.pop('track_popularity')\n",
    "artists = X['track_artist']\n",
    "\n",
    "# Separate numerical from categorical data\n",
    "features_num = ['danceability', 'energy', 'key', 'loudness', 'mode',\n",
    "                'speechiness', 'acousticness', 'instrumentalness',\n",
    "                'liveness', 'valence', 'tempo', 'duration_ms']\n",
    "features_cat = ['playlist_genre']\n",
    "\n",
    "# Preprocess data\n",
    "preprocessor = make_column_transformer(\n",
    "    (StandardScaler(), features_num),\n",
    "    (OneHotEncoder(), features_cat),\n",
    ")"
   ]
  },
  {
   "cell_type": "code",
   "execution_count": 4,
   "id": "a1bb58ae",
   "metadata": {
    "execution": {
     "iopub.execute_input": "2022-04-04T14:13:37.508300Z",
     "iopub.status.busy": "2022-04-04T14:13:37.507694Z",
     "iopub.status.idle": "2022-04-04T14:13:37.564845Z",
     "shell.execute_reply": "2022-04-04T14:13:37.565418Z",
     "shell.execute_reply.started": "2022-04-04T14:09:41.769755Z"
    },
    "papermill": {
     "duration": 0.115208,
     "end_time": "2022-04-04T14:13:37.565619",
     "exception": false,
     "start_time": "2022-04-04T14:13:37.450411",
     "status": "completed"
    },
    "tags": []
   },
   "outputs": [
    {
     "name": "stdout",
     "output_type": "stream",
     "text": [
      "Input shape: [18]\n"
     ]
    }
   ],
   "source": [
    "# Split into training and validation data\n",
    "def group_split(X, y, group, train_size=0.75):\n",
    "    splitter = GroupShuffleSplit(train_size=train_size)\n",
    "    train, test = next(splitter.split(X, y, groups=group))\n",
    "    return (X.iloc[train], X.iloc[test], y.iloc[train], y.iloc[test])\n",
    "\n",
    "X_train, X_valid, y_train, y_valid = group_split(X, y, artists)\n",
    "\n",
    "X_train = preprocessor.fit_transform(X_train)\n",
    "X_valid = preprocessor.transform(X_valid)\n",
    "y_train = y_train / 100\n",
    "y_valid = y_valid / 100\n",
    "\n",
    "input_shape = [X_train.shape[1]]\n",
    "print(\"Input shape: {}\".format(input_shape))"
   ]
  },
  {
   "cell_type": "markdown",
   "id": "5e14edd9",
   "metadata": {
    "papermill": {
     "duration": 0.01447,
     "end_time": "2022-04-04T14:13:37.595470",
     "exception": false,
     "start_time": "2022-04-04T14:13:37.581000",
     "status": "completed"
    },
    "tags": []
   },
   "source": [
    "# Build Dropout Model"
   ]
  },
  {
   "cell_type": "code",
   "execution_count": 5,
   "id": "ff1f80ce",
   "metadata": {
    "execution": {
     "iopub.execute_input": "2022-04-04T14:13:37.629242Z",
     "iopub.status.busy": "2022-04-04T14:13:37.626163Z",
     "iopub.status.idle": "2022-04-04T14:13:40.139598Z",
     "shell.execute_reply": "2022-04-04T14:13:40.140586Z",
     "shell.execute_reply.started": "2022-04-04T14:09:44.405045Z"
    },
    "lines_to_next_cell": 2,
    "papermill": {
     "duration": 2.530894,
     "end_time": "2022-04-04T14:13:40.140790",
     "exception": false,
     "start_time": "2022-04-04T14:13:37.609896",
     "status": "completed"
    },
    "tags": []
   },
   "outputs": [
    {
     "name": "stderr",
     "output_type": "stream",
     "text": [
      "2022-04-04 14:13:37.717214: I tensorflow/stream_executor/cuda/cuda_gpu_executor.cc:937] successful NUMA node read from SysFS had negative value (-1), but there must be at least one NUMA node, so returning NUMA node zero\n",
      "2022-04-04 14:13:37.806473: I tensorflow/stream_executor/cuda/cuda_gpu_executor.cc:937] successful NUMA node read from SysFS had negative value (-1), but there must be at least one NUMA node, so returning NUMA node zero\n",
      "2022-04-04 14:13:37.807173: I tensorflow/stream_executor/cuda/cuda_gpu_executor.cc:937] successful NUMA node read from SysFS had negative value (-1), but there must be at least one NUMA node, so returning NUMA node zero\n",
      "2022-04-04 14:13:37.808975: I tensorflow/core/platform/cpu_feature_guard.cc:142] This TensorFlow binary is optimized with oneAPI Deep Neural Network Library (oneDNN) to use the following CPU instructions in performance-critical operations:  AVX2 AVX512F FMA\n",
      "To enable them in other operations, rebuild TensorFlow with the appropriate compiler flags.\n",
      "2022-04-04 14:13:37.809804: I tensorflow/stream_executor/cuda/cuda_gpu_executor.cc:937] successful NUMA node read from SysFS had negative value (-1), but there must be at least one NUMA node, so returning NUMA node zero\n",
      "2022-04-04 14:13:37.810731: I tensorflow/stream_executor/cuda/cuda_gpu_executor.cc:937] successful NUMA node read from SysFS had negative value (-1), but there must be at least one NUMA node, so returning NUMA node zero\n",
      "2022-04-04 14:13:37.811612: I tensorflow/stream_executor/cuda/cuda_gpu_executor.cc:937] successful NUMA node read from SysFS had negative value (-1), but there must be at least one NUMA node, so returning NUMA node zero\n",
      "2022-04-04 14:13:39.677621: I tensorflow/stream_executor/cuda/cuda_gpu_executor.cc:937] successful NUMA node read from SysFS had negative value (-1), but there must be at least one NUMA node, so returning NUMA node zero\n",
      "2022-04-04 14:13:39.678373: I tensorflow/stream_executor/cuda/cuda_gpu_executor.cc:937] successful NUMA node read from SysFS had negative value (-1), but there must be at least one NUMA node, so returning NUMA node zero\n",
      "2022-04-04 14:13:39.679062: I tensorflow/stream_executor/cuda/cuda_gpu_executor.cc:937] successful NUMA node read from SysFS had negative value (-1), but there must be at least one NUMA node, so returning NUMA node zero\n",
      "2022-04-04 14:13:39.679648: I tensorflow/core/common_runtime/gpu/gpu_device.cc:1510] Created device /job:localhost/replica:0/task:0/device:GPU:0 with 15403 MB memory:  -> device: 0, name: Tesla P100-PCIE-16GB, pci bus id: 0000:00:04.0, compute capability: 6.0\n"
     ]
    }
   ],
   "source": [
    "# Define model (one 30% dropout layer after 128 and another one after 64)\n",
    "model = keras.Sequential([\n",
    "    layers.Dense(units=128, activation='relu', input_shape=input_shape),\n",
    "    layers.Dropout(0.3),\n",
    "    layers.Dense(units=64, activation='relu'),\n",
    "    layers.Dropout(0.3),\n",
    "    layers.Dense(1)\n",
    "])"
   ]
  },
  {
   "cell_type": "code",
   "execution_count": 6,
   "id": "6a7b17e2",
   "metadata": {
    "execution": {
     "iopub.execute_input": "2022-04-04T14:13:40.209167Z",
     "iopub.status.busy": "2022-04-04T14:13:40.208296Z",
     "iopub.status.idle": "2022-04-04T14:13:48.008970Z",
     "shell.execute_reply": "2022-04-04T14:13:48.009384Z",
     "shell.execute_reply.started": "2022-04-04T14:09:49.516482Z"
    },
    "papermill": {
     "duration": 7.840995,
     "end_time": "2022-04-04T14:13:48.009546",
     "exception": false,
     "start_time": "2022-04-04T14:13:40.168551",
     "status": "completed"
    },
    "tags": []
   },
   "outputs": [
    {
     "name": "stderr",
     "output_type": "stream",
     "text": [
      "2022-04-04 14:13:40.309528: I tensorflow/compiler/mlir/mlir_graph_optimization_pass.cc:185] None of the MLIR Optimization Passes are enabled (registered 2)\n"
     ]
    },
    {
     "name": "stdout",
     "output_type": "stream",
     "text": [
      "Minimum Validation Loss: 0.1986\n"
     ]
    },
    {
     "data": {
      "image/png": "[encoded data removed]",
      "text/plain": [
       "<Figure size 432x288 with 1 Axes>"
      ]
     },
     "metadata": {},
     "output_type": "display_data"
    }
   ],
   "source": [
    "# Define objective (=loss) and training (=optimizer)\n",
    "model.compile(\n",
    "    optimizer='adam',\n",
    "    loss='mae',\n",
    ")\n",
    "\n",
    "# Train model\n",
    "history = model.fit(\n",
    "    X_train, y_train,\n",
    "    validation_data=(X_valid, y_valid),\n",
    "    batch_size=512,\n",
    "    epochs=50,\n",
    "    verbose=0,\n",
    ")\n",
    "\n",
    "# Plot results\n",
    "history_df = pd.DataFrame(history.history)\n",
    "history_df.loc[:, ['loss', 'val_loss']].plot()\n",
    "print(\"Minimum Validation Loss: {:0.4f}\".format(history_df['val_loss'].min()))"
   ]
  },
  {
   "cell_type": "markdown",
   "id": "b9f09039",
   "metadata": {
    "papermill": {
     "duration": 0.016561,
     "end_time": "2022-04-04T14:13:48.043277",
     "exception": false,
     "start_time": "2022-04-04T14:13:48.026716",
     "status": "completed"
    },
    "tags": []
   },
   "source": [
    "From the learning curves, you can see that the validation loss remains near a constant minimum even though the training loss continues to decrease. So we can see that adding dropout did prevent overfitting this time. Moreover, by making it harder for the network to fit spurious patterns, dropout may have encouraged the network to seek out more of the true patterns, possibly improving the validation loss some as well)."
   ]
  },
  {
   "cell_type": "markdown",
   "id": "52fbdfd2",
   "metadata": {
    "papermill": {
     "duration": 0.016514,
     "end_time": "2022-04-04T14:13:48.076229",
     "exception": false,
     "start_time": "2022-04-04T14:13:48.059715",
     "status": "completed"
    },
    "tags": []
   },
   "source": [
    "# Preparation (Batch Normalization)"
   ]
  },
  {
   "cell_type": "code",
   "execution_count": 7,
   "id": "4078fdd6",
   "metadata": {
    "execution": {
     "iopub.execute_input": "2022-04-04T14:13:48.114997Z",
     "iopub.status.busy": "2022-04-04T14:13:48.114476Z",
     "iopub.status.idle": "2022-04-04T14:13:48.127645Z",
     "shell.execute_reply": "2022-04-04T14:13:48.127180Z",
     "shell.execute_reply.started": "2022-04-04T14:10:04.245272Z"
    },
    "papermill": {
     "duration": 0.034927,
     "end_time": "2022-04-04T14:13:48.127758",
     "exception": false,
     "start_time": "2022-04-04T14:13:48.092831",
     "status": "completed"
    },
    "tags": []
   },
   "outputs": [],
   "source": [
    "# Import data\n",
    "concrete = pd.read_csv('../input/dl-course-data/concrete.csv')\n",
    "df = concrete.copy()"
   ]
  },
  {
   "cell_type": "code",
   "execution_count": 8,
   "id": "2a7ea103",
   "metadata": {
    "execution": {
     "iopub.execute_input": "2022-04-04T14:13:48.168457Z",
     "iopub.status.busy": "2022-04-04T14:13:48.166739Z",
     "iopub.status.idle": "2022-04-04T14:13:48.173390Z",
     "shell.execute_reply": "2022-04-04T14:13:48.172941Z",
     "shell.execute_reply.started": "2022-04-04T14:10:06.500627Z"
    },
    "papermill": {
     "duration": 0.02871,
     "end_time": "2022-04-04T14:13:48.173525",
     "exception": false,
     "start_time": "2022-04-04T14:13:48.144815",
     "status": "completed"
    },
    "tags": []
   },
   "outputs": [],
   "source": [
    "# Split into training and validation data\n",
    "df_train = df.sample(frac=0.7, random_state=0)\n",
    "df_valid = df.drop(df_train.index)\n",
    "\n",
    "X_train = df_train.drop('CompressiveStrength', axis=1)\n",
    "X_valid = df_valid.drop('CompressiveStrength', axis=1)\n",
    "y_train = df_train['CompressiveStrength']\n",
    "y_valid = df_valid['CompressiveStrength']\n",
    "\n",
    "input_shape = [X_train.shape[1]]"
   ]
  },
  {
   "cell_type": "markdown",
   "id": "d7d1e7e4",
   "metadata": {
    "papermill": {
     "duration": 0.016447,
     "end_time": "2022-04-04T14:13:48.206555",
     "exception": false,
     "start_time": "2022-04-04T14:13:48.190108",
     "status": "completed"
    },
    "tags": []
   },
   "source": [
    "# Build Batch Normalization Model"
   ]
  },
  {
   "cell_type": "code",
   "execution_count": 9,
   "id": "7d0b6d9d",
   "metadata": {
    "execution": {
     "iopub.execute_input": "2022-04-04T14:13:48.251997Z",
     "iopub.status.busy": "2022-04-04T14:13:48.251194Z",
     "iopub.status.idle": "2022-04-04T14:13:53.918884Z",
     "shell.execute_reply": "2022-04-04T14:13:53.919489Z",
     "shell.execute_reply.started": "2022-04-04T14:10:09.046469Z"
    },
    "papermill": {
     "duration": 5.696539,
     "end_time": "2022-04-04T14:13:53.919704",
     "exception": false,
     "start_time": "2022-04-04T14:13:48.223165",
     "status": "completed"
    },
    "tags": []
   },
   "outputs": [
    {
     "name": "stdout",
     "output_type": "stream",
     "text": [
      "Minimum Validation Loss: nan\n"
     ]
    },
    {
     "data": {
      "image/png": "[encoded data removed]",
      "text/plain": [
       "<Figure size 432x288 with 1 Axes>"
      ]
     },
     "metadata": {},
     "output_type": "display_data"
    }
   ],
   "source": [
    "# Define model without batch normalization\n",
    "model = keras.Sequential([\n",
    "    layers.Dense(512, activation='relu', input_shape=input_shape),\n",
    "    layers.Dense(512, activation='relu'),    \n",
    "    layers.Dense(512, activation='relu'),\n",
    "    layers.Dense(1),\n",
    "])\n",
    "\n",
    "# Define objective (=loss) and training (=optimizer)\n",
    "model.compile(\n",
    "    optimizer='sgd', # SGD is more sensitive to differences of scale\n",
    "    loss='mae',\n",
    "    metrics=['mae'],\n",
    ")\n",
    "\n",
    "# Train model on unstandardized data\n",
    "history = model.fit(\n",
    "    X_train, y_train,\n",
    "    validation_data=(X_valid, y_valid),\n",
    "    batch_size=64,\n",
    "    epochs=100,\n",
    "    verbose=0,\n",
    ")\n",
    "\n",
    "# Plot results\n",
    "history_df = pd.DataFrame(history.history)\n",
    "history_df.loc[0:, ['loss', 'val_loss']].plot()\n",
    "print((\"Minimum Validation Loss: {:0.4f}\").format(history_df['val_loss'].min()))"
   ]
  },
  {
   "cell_type": "markdown",
   "id": "b5f656b9",
   "metadata": {
    "papermill": {
     "duration": 0.017673,
     "end_time": "2022-04-04T14:13:53.955736",
     "exception": false,
     "start_time": "2022-04-04T14:13:53.938063",
     "status": "completed"
    },
    "tags": []
   },
   "source": [
    "Did you end up with a blank graph? Trying to train this network on this dataset will usually fail. Even when it does converge (due to a lucky weight initialization), it tends to converge to a very large number."
   ]
  },
  {
   "cell_type": "code",
   "execution_count": 10,
   "id": "031e8ce3",
   "metadata": {
    "execution": {
     "iopub.execute_input": "2022-04-04T14:13:54.007448Z",
     "iopub.status.busy": "2022-04-04T14:13:53.999159Z",
     "iopub.status.idle": "2022-04-04T14:14:05.663568Z",
     "shell.execute_reply": "2022-04-04T14:14:05.664065Z",
     "shell.execute_reply.started": "2022-04-04T14:10:18.237155Z"
    },
    "lines_to_next_cell": 0,
    "papermill": {
     "duration": 11.690854,
     "end_time": "2022-04-04T14:14:05.664322",
     "exception": false,
     "start_time": "2022-04-04T14:13:53.973468",
     "status": "completed"
    },
    "tags": []
   },
   "outputs": [
    {
     "name": "stdout",
     "output_type": "stream",
     "text": [
      "Minimum Validation Loss: 4.1167\n"
     ]
    },
    {
     "data": {
      "image/png": "[encoded data removed]",
      "text/plain": [
       "<Figure size 432x288 with 1 Axes>"
      ]
     },
     "metadata": {},
     "output_type": "display_data"
    }
   ],
   "source": [
    "# Define model with batch normalization layer before each dense layer\n",
    "model = keras.Sequential([\n",
    "    layers.BatchNormalization(input_shape=input_shape),\n",
    "    layers.Dense(units=512, activation='relu'),\n",
    "    layers.BatchNormalization(),\n",
    "    layers.Dense(units=512, activation='relu'),\n",
    "    layers.BatchNormalization(),\n",
    "    layers.Dense(units=512, activation='relu'),\n",
    "    layers.BatchNormalization(),\n",
    "    layers.Dense(1),\n",
    "])\n",
    "\n",
    "# Define objective (=loss) and training (=optimizer)\n",
    "model.compile(\n",
    "    optimizer='sgd',\n",
    "    loss='mae',\n",
    "    metrics=['mae'],\n",
    ")\n",
    "\n",
    "# Train model on normalized data\n",
    "EPOCHS = 100\n",
    "history = model.fit(\n",
    "    X_train, y_train,\n",
    "    validation_data=(X_valid, y_valid),\n",
    "    batch_size=64,\n",
    "    epochs=EPOCHS,\n",
    "    verbose=0,\n",
    ")\n",
    "\n",
    "# Plot results\n",
    "history_df = pd.DataFrame(history.history)\n",
    "history_df.loc[0:, ['loss', 'val_loss']].plot()\n",
    "print((\"Minimum Validation Loss: {:0.4f}\").format(history_df['val_loss'].min()))"
   ]
  },
  {
   "cell_type": "markdown",
   "id": "bf9b8728",
   "metadata": {
    "papermill": {
     "duration": 0.020155,
     "end_time": "2022-04-04T14:14:05.706173",
     "exception": false,
     "start_time": "2022-04-04T14:14:05.686018",
     "status": "completed"
    },
    "tags": []
   },
   "source": [
    "You can see that adding batch normalization was a big improvement on the first attempt! By adaptively scaling the data as it passes through the network, batch normalization can let you train models on difficult datasets."
   ]
  },
  {
   "cell_type": "markdown",
   "id": "4ef5d514",
   "metadata": {
    "papermill": {
     "duration": 0.018815,
     "end_time": "2022-04-04T14:14:05.744290",
     "exception": false,
     "start_time": "2022-04-04T14:14:05.725475",
     "status": "completed"
    },
    "tags": []
   },
   "source": [
    "---\n",
    "\n",
    "\n",
    "\n",
    "\n",
    "*Have questions or comments? Visit the [course discussion forum](https://www.kaggle.com/learn/intro-to-deep-learning/discussion) to chat with other learners.*"
   ]
  }
 ],
 "metadata": {
  "kernelspec": {
   "display_name": "Python 3",
   "language": "python",
   "name": "python3"
  },
  "language_info": {
   "codemirror_mode": {
    "name": "ipython",
    "version": 3
   },
   "file_extension": ".py",
   "mimetype": "text/x-python",
   "name": "python",
   "nbconvert_exporter": "python",
   "pygments_lexer": "ipython3",
   "version": "3.7.12"
  },
  "papermill": {
   "default_parameters": {},
   "duration": 46.302222,
   "end_time": "2022-04-04T14:14:09.245101",
   "environment_variables": {},
   "exception": null,
   "input_path": "__notebook__.ipynb",
   "output_path": "__notebook__.ipynb",
   "parameters": {},
   "start_time": "2022-04-04T14:13:22.942879",
   "version": "2.3.3"
  }
 },
 "nbformat": 4,
 "nbformat_minor": 5
}
