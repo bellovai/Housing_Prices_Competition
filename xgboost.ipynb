{
 "cells": [
  {
   "cell_type": "markdown",
   "id": "30fc637a",
   "metadata": {
    "papermill": {
     "duration": 0.020813,
     "end_time": "2022-03-15T13:34:35.557279",
     "exception": false,
     "start_time": "2022-03-15T13:34:35.536466",
     "status": "completed"
    },
    "tags": []
   },
   "source": [
    "**This notebook is an exercise in the [Intermediate Machine Learning](https://www.kaggle.com/learn/intermediate-machine-learning) course.  You can reference the tutorial at [this link](https://www.kaggle.com/alexisbcook/xgboost).**\n",
    "\n",
    "---\n"
   ]
  },
  {
   "cell_type": "markdown",
   "id": "5e685021",
   "metadata": {
    "papermill": {
     "duration": 0.017989,
     "end_time": "2022-03-15T13:34:35.594620",
     "exception": false,
     "start_time": "2022-03-15T13:34:35.576631",
     "status": "completed"
    },
    "tags": []
   },
   "source": [
    "# Introduction\n",
    "\n",
    "* You will use your new knowledge to train a model with **gradient boosting**.\n",
    "* Begin by running the code cell below to set up code checking and the filepaths for the dataset."
   ]
  },
  {
   "cell_type": "code",
   "execution_count": 1,
   "id": "6b23f5c0",
   "metadata": {
    "execution": {
     "iopub.execute_input": "2022-03-15T13:34:35.642084Z",
     "iopub.status.busy": "2022-03-15T13:34:35.641443Z",
     "iopub.status.idle": "2022-03-15T13:34:38.264836Z",
     "shell.execute_reply": "2022-03-15T13:34:38.266270Z",
     "shell.execute_reply.started": "2022-03-15T13:28:29.907073Z"
    },
    "papermill": {
     "duration": 2.653449,
     "end_time": "2022-03-15T13:34:38.266768",
     "exception": false,
     "start_time": "2022-03-15T13:34:35.613319",
     "status": "completed"
    },
    "tags": []
   },
   "outputs": [
    {
     "name": "stdout",
     "output_type": "stream",
     "text": [
      "Setup Complete\n"
     ]
    }
   ],
   "source": [
    "# Set up code checking and filepaths\n",
    "import os\n",
    "if not os.path.exists(\"../input/train.csv\"):\n",
    "    os.symlink(\"../input/home-data-for-ml-course/train.csv\", \"../input/train.csv\")  \n",
    "    os.symlink(\"../input/home-data-for-ml-course/test.csv\", \"../input/test.csv\") \n",
    "from learntools.core import binder\n",
    "binder.bind(globals())\n",
    "from learntools.ml_intermediate.ex6 import *\n",
    "print(\"Setup Complete\")"
   ]
  },
  {
   "cell_type": "markdown",
   "id": "a8fe3d14",
   "metadata": {
    "papermill": {
     "duration": 0.018193,
     "end_time": "2022-03-15T13:34:38.304973",
     "exception": false,
     "start_time": "2022-03-15T13:34:38.286780",
     "status": "completed"
    },
    "tags": []
   },
   "source": [
    "# Preparation"
   ]
  },
  {
   "cell_type": "code",
   "execution_count": 2,
   "id": "636a4342",
   "metadata": {
    "execution": {
     "iopub.execute_input": "2022-03-15T13:34:38.350070Z",
     "iopub.status.busy": "2022-03-15T13:34:38.349134Z",
     "iopub.status.idle": "2022-03-15T13:34:38.352339Z",
     "shell.execute_reply": "2022-03-15T13:34:38.351679Z",
     "shell.execute_reply.started": "2022-03-15T13:28:32.560368Z"
    },
    "papermill": {
     "duration": 0.02839,
     "end_time": "2022-03-15T13:34:38.352486",
     "exception": false,
     "start_time": "2022-03-15T13:34:38.324096",
     "status": "completed"
    },
    "tags": []
   },
   "outputs": [],
   "source": [
    "# Import packages\n",
    "import pandas as pd\n",
    "from sklearn.model_selection import train_test_split"
   ]
  },
  {
   "cell_type": "code",
   "execution_count": 3,
   "id": "0b266750",
   "metadata": {
    "execution": {
     "iopub.execute_input": "2022-03-15T13:34:38.394026Z",
     "iopub.status.busy": "2022-03-15T13:34:38.393391Z",
     "iopub.status.idle": "2022-03-15T13:34:38.443529Z",
     "shell.execute_reply": "2022-03-15T13:34:38.442957Z",
     "shell.execute_reply.started": "2022-03-15T13:28:32.565774Z"
    },
    "papermill": {
     "duration": 0.072998,
     "end_time": "2022-03-15T13:34:38.443666",
     "exception": false,
     "start_time": "2022-03-15T13:34:38.370668",
     "status": "completed"
    },
    "tags": []
   },
   "outputs": [],
   "source": [
    "# Import data\n",
    "X = pd.read_csv('../input/train.csv', index_col='Id')\n",
    "X_test_full = pd.read_csv('../input/test.csv', index_col='Id')"
   ]
  },
  {
   "cell_type": "code",
   "execution_count": 4,
   "id": "f08be1d0",
   "metadata": {
    "execution": {
     "iopub.execute_input": "2022-03-15T13:34:38.485369Z",
     "iopub.status.busy": "2022-03-15T13:34:38.484688Z",
     "iopub.status.idle": "2022-03-15T13:34:38.491754Z",
     "shell.execute_reply": "2022-03-15T13:34:38.491234Z",
     "shell.execute_reply.started": "2022-03-15T13:28:32.62599Z"
    },
    "papermill": {
     "duration": 0.028339,
     "end_time": "2022-03-15T13:34:38.491898",
     "exception": false,
     "start_time": "2022-03-15T13:34:38.463559",
     "status": "completed"
    },
    "tags": []
   },
   "outputs": [],
   "source": [
    "# Remove rows with missing target\n",
    "X.dropna(axis=0, subset=['SalePrice'], inplace=True)"
   ]
  },
  {
   "cell_type": "code",
   "execution_count": 5,
   "id": "b40f3d4e",
   "metadata": {
    "execution": {
     "iopub.execute_input": "2022-03-15T13:34:38.532797Z",
     "iopub.status.busy": "2022-03-15T13:34:38.532136Z",
     "iopub.status.idle": "2022-03-15T13:34:38.537690Z",
     "shell.execute_reply": "2022-03-15T13:34:38.538207Z",
     "shell.execute_reply.started": "2022-03-15T13:28:32.634542Z"
    },
    "papermill": {
     "duration": 0.027489,
     "end_time": "2022-03-15T13:34:38.538377",
     "exception": false,
     "start_time": "2022-03-15T13:34:38.510888",
     "status": "completed"
    },
    "tags": []
   },
   "outputs": [],
   "source": [
    "# Separate target from predictors\n",
    "y = X.SalePrice              \n",
    "X.drop(['SalePrice'], axis=1, inplace=True)"
   ]
  },
  {
   "cell_type": "code",
   "execution_count": 6,
   "id": "03c004d7",
   "metadata": {
    "execution": {
     "iopub.execute_input": "2022-03-15T13:34:38.582641Z",
     "iopub.status.busy": "2022-03-15T13:34:38.579247Z",
     "iopub.status.idle": "2022-03-15T13:34:38.587123Z",
     "shell.execute_reply": "2022-03-15T13:34:38.587617Z",
     "shell.execute_reply.started": "2022-03-15T13:28:32.650451Z"
    },
    "papermill": {
     "duration": 0.029872,
     "end_time": "2022-03-15T13:34:38.587804",
     "exception": false,
     "start_time": "2022-03-15T13:34:38.557932",
     "status": "completed"
    },
    "tags": []
   },
   "outputs": [],
   "source": [
    "# Split into training and validation data\n",
    "X_train_full, X_valid_full, y_train, y_valid = train_test_split(X, y, train_size=0.8, test_size=0.2, random_state=0)"
   ]
  },
  {
   "cell_type": "code",
   "execution_count": 7,
   "id": "de143b5e",
   "metadata": {
    "execution": {
     "iopub.execute_input": "2022-03-15T13:34:38.629708Z",
     "iopub.status.busy": "2022-03-15T13:34:38.628501Z",
     "iopub.status.idle": "2022-03-15T13:34:38.649188Z",
     "shell.execute_reply": "2022-03-15T13:34:38.649690Z",
     "shell.execute_reply.started": "2022-03-15T13:28:32.665115Z"
    },
    "papermill": {
     "duration": 0.042924,
     "end_time": "2022-03-15T13:34:38.649898",
     "exception": false,
     "start_time": "2022-03-15T13:34:38.606974",
     "status": "completed"
    },
    "tags": []
   },
   "outputs": [],
   "source": [
    "# Select categorical columns with 'low' cardinality (cardinality = number of unique values in a column)\n",
    "low_cardinality_cols = [cname for cname in X_train_full.columns if X_train_full[cname].nunique() < 10 and X_train_full[cname].dtype == \"object\"]"
   ]
  },
  {
   "cell_type": "code",
   "execution_count": 8,
   "id": "5d255ee1",
   "metadata": {
    "execution": {
     "iopub.execute_input": "2022-03-15T13:34:38.694368Z",
     "iopub.status.busy": "2022-03-15T13:34:38.693516Z",
     "iopub.status.idle": "2022-03-15T13:34:38.696093Z",
     "shell.execute_reply": "2022-03-15T13:34:38.696543Z",
     "shell.execute_reply.started": "2022-03-15T13:28:32.690898Z"
    },
    "papermill": {
     "duration": 0.027424,
     "end_time": "2022-03-15T13:34:38.696756",
     "exception": false,
     "start_time": "2022-03-15T13:34:38.669332",
     "status": "completed"
    },
    "tags": []
   },
   "outputs": [],
   "source": [
    "# Select numeric columns\n",
    "numeric_cols = [cname for cname in X_train_full.columns if X_train_full[cname].dtype in ['int64', 'float64']]"
   ]
  },
  {
   "cell_type": "code",
   "execution_count": 9,
   "id": "b14a0be3",
   "metadata": {
    "execution": {
     "iopub.execute_input": "2022-03-15T13:34:38.741948Z",
     "iopub.status.busy": "2022-03-15T13:34:38.739552Z",
     "iopub.status.idle": "2022-03-15T13:34:38.746254Z",
     "shell.execute_reply": "2022-03-15T13:34:38.745727Z",
     "shell.execute_reply.started": "2022-03-15T13:28:32.69857Z"
    },
    "papermill": {
     "duration": 0.031275,
     "end_time": "2022-03-15T13:34:38.746388",
     "exception": false,
     "start_time": "2022-03-15T13:34:38.715113",
     "status": "completed"
    },
    "tags": []
   },
   "outputs": [],
   "source": [
    "# Keep selected columns only\n",
    "my_cols = low_cardinality_cols + numeric_cols\n",
    "X_train = X_train_full[my_cols].copy()\n",
    "X_valid = X_valid_full[my_cols].copy()\n",
    "X_test = X_test_full[my_cols].copy()"
   ]
  },
  {
   "cell_type": "code",
   "execution_count": 10,
   "id": "1812ac4b",
   "metadata": {
    "execution": {
     "iopub.execute_input": "2022-03-15T13:34:38.796106Z",
     "iopub.status.busy": "2022-03-15T13:34:38.787397Z",
     "iopub.status.idle": "2022-03-15T13:34:38.914604Z",
     "shell.execute_reply": "2022-03-15T13:34:38.914052Z",
     "shell.execute_reply.started": "2022-03-15T13:28:32.718232Z"
    },
    "papermill": {
     "duration": 0.148298,
     "end_time": "2022-03-15T13:34:38.914761",
     "exception": false,
     "start_time": "2022-03-15T13:34:38.766463",
     "status": "completed"
    },
    "tags": []
   },
   "outputs": [],
   "source": [
    "# One-hot encode the data\n",
    "X_train = pd.get_dummies(X_train)\n",
    "X_valid = pd.get_dummies(X_valid)\n",
    "X_test = pd.get_dummies(X_test)\n",
    "X_train, X_valid = X_train.align(X_valid, join='left', axis=1)\n",
    "X_train, X_test = X_train.align(X_test, join='left', axis=1)"
   ]
  },
  {
   "cell_type": "markdown",
   "id": "d3361028",
   "metadata": {
    "papermill": {
     "duration": 0.018039,
     "end_time": "2022-03-15T13:34:38.951912",
     "exception": false,
     "start_time": "2022-03-15T13:34:38.933873",
     "status": "completed"
    },
    "tags": []
   },
   "source": [
    "# Build Model"
   ]
  },
  {
   "cell_type": "code",
   "execution_count": 11,
   "id": "c29cf73d",
   "metadata": {
    "execution": {
     "iopub.execute_input": "2022-03-15T13:34:38.991627Z",
     "iopub.status.busy": "2022-03-15T13:34:38.991024Z",
     "iopub.status.idle": "2022-03-15T13:34:38.994799Z",
     "shell.execute_reply": "2022-03-15T13:34:38.995413Z",
     "shell.execute_reply.started": "2022-03-15T13:28:32.845864Z"
    },
    "papermill": {
     "duration": 0.025408,
     "end_time": "2022-03-15T13:34:38.995596",
     "exception": false,
     "start_time": "2022-03-15T13:34:38.970188",
     "status": "completed"
    },
    "tags": []
   },
   "outputs": [],
   "source": [
    "# Import packages\n",
    "from xgboost import XGBRegressor\n",
    "from sklearn.metrics import mean_absolute_error"
   ]
  },
  {
   "cell_type": "code",
   "execution_count": 12,
   "id": "b87176ae",
   "metadata": {
    "execution": {
     "iopub.execute_input": "2022-03-15T13:34:39.035193Z",
     "iopub.status.busy": "2022-03-15T13:34:39.034507Z",
     "iopub.status.idle": "2022-03-15T13:34:48.717450Z",
     "shell.execute_reply": "2022-03-15T13:34:48.717945Z",
     "shell.execute_reply.started": "2022-03-15T13:30:36.253683Z"
    },
    "papermill": {
     "duration": 9.704169,
     "end_time": "2022-03-15T13:34:48.718134",
     "exception": false,
     "start_time": "2022-03-15T13:34:39.013965",
     "status": "completed"
    },
    "tags": []
   },
   "outputs": [
    {
     "data": {
      "text/plain": [
       "XGBRegressor(base_score=0.5, booster='gbtree', colsample_bylevel=1,\n",
       "             colsample_bynode=1, colsample_bytree=1, enable_categorical=False,\n",
       "             gamma=0, gpu_id=-1, importance_type=None,\n",
       "             interaction_constraints='', learning_rate=0.05, max_delta_step=0,\n",
       "             max_depth=6, min_child_weight=1, missing=nan,\n",
       "             monotone_constraints='()', n_estimators=1000, n_jobs=4,\n",
       "             num_parallel_tree=1, predictor='auto', random_state=0, reg_alpha=0,\n",
       "             reg_lambda=1, scale_pos_weight=1, subsample=1, tree_method='exact',\n",
       "             validate_parameters=1, verbosity=None)"
      ]
     },
     "execution_count": 12,
     "metadata": {},
     "output_type": "execute_result"
    }
   ],
   "source": [
    "# Define and fit model\n",
    "my_model = XGBRegressor(random_state = 0, n_estimators=1000, learning_rate=0.05)\n",
    "my_model.fit(X_train, y_train)"
   ]
  },
  {
   "cell_type": "code",
   "execution_count": 13,
   "id": "079c470d",
   "metadata": {
    "execution": {
     "iopub.execute_input": "2022-03-15T13:34:48.762953Z",
     "iopub.status.busy": "2022-03-15T13:34:48.762192Z",
     "iopub.status.idle": "2022-03-15T13:34:48.784445Z",
     "shell.execute_reply": "2022-03-15T13:34:48.785036Z",
     "shell.execute_reply.started": "2022-03-15T13:30:55.484164Z"
    },
    "papermill": {
     "duration": 0.048149,
     "end_time": "2022-03-15T13:34:48.785236",
     "exception": false,
     "start_time": "2022-03-15T13:34:48.737087",
     "status": "completed"
    },
    "tags": []
   },
   "outputs": [],
   "source": [
    "# Make predictions\n",
    "predictions_1 = my_model.predict(X_valid)"
   ]
  },
  {
   "cell_type": "code",
   "execution_count": 14,
   "id": "42552e5f",
   "metadata": {
    "execution": {
     "iopub.execute_input": "2022-03-15T13:34:48.831195Z",
     "iopub.status.busy": "2022-03-15T13:34:48.830489Z",
     "iopub.status.idle": "2022-03-15T13:34:48.833578Z",
     "shell.execute_reply": "2022-03-15T13:34:48.834348Z",
     "shell.execute_reply.started": "2022-03-15T13:31:15.826636Z"
    },
    "papermill": {
     "duration": 0.029056,
     "end_time": "2022-03-15T13:34:48.834569",
     "exception": false,
     "start_time": "2022-03-15T13:34:48.805513",
     "status": "completed"
    },
    "tags": []
   },
   "outputs": [
    {
     "name": "stdout",
     "output_type": "stream",
     "text": [
      "Mean Absolute Error: 16688.691513270547\n"
     ]
    }
   ],
   "source": [
    "# Calculate and output MAE\n",
    "mae_1 = mean_absolute_error(y_valid, predictions_1)\n",
    "print(\"Mean Absolute Error:\" , mae_1)"
   ]
  },
  {
   "cell_type": "markdown",
   "id": "aff24c2c",
   "metadata": {
    "papermill": {
     "duration": 0.018559,
     "end_time": "2022-03-15T13:34:48.873238",
     "exception": false,
     "start_time": "2022-03-15T13:34:48.854679",
     "status": "completed"
    },
    "tags": []
   },
   "source": [
    "---\n",
    "\n",
    "\n",
    "\n",
    "\n",
    "*Have questions or comments? Visit the [course discussion forum](https://www.kaggle.com/learn/intermediate-machine-learning/discussion) to chat with other learners.*"
   ]
  }
 ],
 "metadata": {
  "kernelspec": {
   "display_name": "Python 3",
   "language": "python",
   "name": "python3"
  },
  "language_info": {
   "codemirror_mode": {
    "name": "ipython",
    "version": 3
   },
   "file_extension": ".py",
   "mimetype": "text/x-python",
   "name": "python",
   "nbconvert_exporter": "python",
   "pygments_lexer": "ipython3",
   "version": "3.7.12"
  },
  "papermill": {
   "default_parameters": {},
   "duration": 25.140075,
   "end_time": "2022-03-15T13:34:50.007816",
   "environment_variables": {},
   "exception": null,
   "input_path": "__notebook__.ipynb",
   "output_path": "__notebook__.ipynb",
   "parameters": {},
   "start_time": "2022-03-15T13:34:24.867741",
   "version": "2.3.3"
  }
 },
 "nbformat": 4,
 "nbformat_minor": 5
}
