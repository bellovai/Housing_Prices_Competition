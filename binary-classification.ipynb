{
 "cells": [
  {
   "cell_type": "markdown",
   "id": "b79bf084",
   "metadata": {
    "papermill": {
     "duration": 0.009922,
     "end_time": "2022-04-04T14:37:30.935435",
     "exception": false,
     "start_time": "2022-04-04T14:37:30.925513",
     "status": "completed"
    },
    "tags": []
   },
   "source": [
    "**This notebook is an exercise in the [Intro to Deep Learning](https://www.kaggle.com/learn/intro-to-deep-learning) course.  You can reference the tutorial at [this link](https://www.kaggle.com/ryanholbrook/binary-classification).**\n",
    "\n",
    "---\n"
   ]
  },
  {
   "cell_type": "markdown",
   "id": "86be3672",
   "metadata": {
    "papermill": {
     "duration": 0.008798,
     "end_time": "2022-04-04T14:37:30.954109",
     "exception": false,
     "start_time": "2022-04-04T14:37:30.945311",
     "status": "completed"
    },
    "tags": []
   },
   "source": [
    "# Introduction #\n",
    "\n",
    "* You will use your new knowledge to train a model on binary classification.\n",
    "* Begin by running the code cell below to set up code checking and the filepaths for the dataset."
   ]
  },
  {
   "cell_type": "code",
   "execution_count": 1,
   "id": "0edd2ea8",
   "metadata": {
    "execution": {
     "iopub.execute_input": "2022-04-04T14:37:30.977341Z",
     "iopub.status.busy": "2022-04-04T14:37:30.975788Z",
     "iopub.status.idle": "2022-04-04T14:37:31.016650Z",
     "shell.execute_reply": "2022-04-04T14:37:31.016166Z",
     "shell.execute_reply.started": "2022-04-04T14:33:23.299290Z"
    },
    "lines_to_next_cell": 0,
    "papermill": {
     "duration": 0.053822,
     "end_time": "2022-04-04T14:37:31.016775",
     "exception": false,
     "start_time": "2022-04-04T14:37:30.962953",
     "status": "completed"
    },
    "tags": []
   },
   "outputs": [],
   "source": [
    "# Setup plotting\n",
    "import matplotlib.pyplot as plt\n",
    "plt.style.use('seaborn-whitegrid')\n",
    "\n",
    "# Set Matplotlib defaults\n",
    "plt.rc('figure', autolayout=True)\n",
    "plt.rc('axes', labelweight='bold', labelsize='large',\n",
    "       titleweight='bold', titlesize=18, titlepad=10)\n",
    "plt.rc('animation', html='html5')\n",
    "\n",
    "# Setup feedback system\n",
    "from learntools.core import binder\n",
    "binder.bind(globals())\n",
    "from learntools.deep_learning_intro.ex6 import *"
   ]
  },
  {
   "cell_type": "markdown",
   "id": "da96e8c7",
   "metadata": {
    "papermill": {
     "duration": 0.008689,
     "end_time": "2022-04-04T14:37:31.034852",
     "exception": false,
     "start_time": "2022-04-04T14:37:31.026163",
     "status": "completed"
    },
    "tags": []
   },
   "source": [
    "# Preparation"
   ]
  },
  {
   "cell_type": "code",
   "execution_count": 2,
   "id": "f3c083b9",
   "metadata": {
    "execution": {
     "iopub.execute_input": "2022-04-04T14:37:31.056965Z",
     "iopub.status.busy": "2022-04-04T14:37:31.056321Z",
     "iopub.status.idle": "2022-04-04T14:37:32.173258Z",
     "shell.execute_reply": "2022-04-04T14:37:32.172358Z",
     "shell.execute_reply.started": "2022-04-04T14:33:23.339274Z"
    },
    "lines_to_next_cell": 2,
    "papermill": {
     "duration": 1.129654,
     "end_time": "2022-04-04T14:37:32.173390",
     "exception": false,
     "start_time": "2022-04-04T14:37:31.043736",
     "status": "completed"
    },
    "tags": []
   },
   "outputs": [],
   "source": [
    "# Import packages\n",
    "import pandas as pd\n",
    "from sklearn.model_selection import train_test_split\n",
    "from sklearn.preprocessing import StandardScaler, OneHotEncoder\n",
    "from sklearn.impute import SimpleImputer\n",
    "from sklearn.pipeline import make_pipeline\n",
    "from sklearn.compose import make_column_transformer"
   ]
  },
  {
   "cell_type": "code",
   "execution_count": 3,
   "id": "f1647e10",
   "metadata": {
    "execution": {
     "iopub.execute_input": "2022-04-04T14:37:32.201166Z",
     "iopub.status.busy": "2022-04-04T14:37:32.194027Z",
     "iopub.status.idle": "2022-04-04T14:37:33.429790Z",
     "shell.execute_reply": "2022-04-04T14:37:33.430763Z",
     "shell.execute_reply.started": "2022-04-04T14:33:24.401877Z"
    },
    "papermill": {
     "duration": 1.248369,
     "end_time": "2022-04-04T14:37:33.430989",
     "exception": false,
     "start_time": "2022-04-04T14:37:32.182620",
     "status": "completed"
    },
    "tags": []
   },
   "outputs": [],
   "source": [
    "# Import data\n",
    "hotel = pd.read_csv('../input/dl-course-data/hotel.csv')\n",
    "\n",
    "# Separate target from predictors\n",
    "X = hotel.copy()\n",
    "y = X.pop('is_canceled')\n",
    "\n",
    "# Encode months\n",
    "X['arrival_date_month'] = \\\n",
    "    X['arrival_date_month'].map(\n",
    "        {'January':1, 'February': 2, 'March':3,\n",
    "         'April':4, 'May':5, 'June':6, 'July':7,\n",
    "         'August':8, 'September':9, 'October':10,\n",
    "         'November':11, 'December':12}\n",
    "    )\n",
    "\n",
    "# Separate numerical from categorical data\n",
    "features_num = [\n",
    "    \"lead_time\", \"arrival_date_week_number\",\n",
    "    \"arrival_date_day_of_month\", \"stays_in_weekend_nights\",\n",
    "    \"stays_in_week_nights\", \"adults\", \"children\", \"babies\",\n",
    "    \"is_repeated_guest\", \"previous_cancellations\",\n",
    "    \"previous_bookings_not_canceled\", \"required_car_parking_spaces\",\n",
    "    \"total_of_special_requests\", \"adr\",\n",
    "]\n",
    "features_cat = [\n",
    "    \"hotel\", \"arrival_date_month\", \"meal\",\n",
    "    \"market_segment\", \"distribution_channel\",\n",
    "    \"reserved_room_type\", \"deposit_type\", \"customer_type\",\n",
    "]\n",
    "\n",
    "# Preprocess data\n",
    "transformer_num = make_pipeline(\n",
    "    SimpleImputer(strategy=\"constant\"), # there are a few missing values\n",
    "    StandardScaler(),\n",
    ")\n",
    "transformer_cat = make_pipeline(\n",
    "    SimpleImputer(strategy=\"constant\", fill_value=\"NA\"),\n",
    "    OneHotEncoder(handle_unknown='ignore'),\n",
    ")\n",
    "preprocessor = make_column_transformer(\n",
    "    (transformer_num, features_num),\n",
    "    (transformer_cat, features_cat),\n",
    ")\n",
    "\n",
    "# Stratify (make sure classes are evenlly represented across splits)\n",
    "X_train, X_valid, y_train, y_valid = \\\n",
    "    train_test_split(X, y, stratify=y, train_size=0.75)\n",
    "\n",
    "# Separate training from validation data\n",
    "X_train = preprocessor.fit_transform(X_train)\n",
    "X_valid = preprocessor.transform(X_valid)\n",
    "\n",
    "# Define input shape\n",
    "input_shape = [X_train.shape[1]]"
   ]
  },
  {
   "cell_type": "markdown",
   "id": "8ce30da4",
   "metadata": {
    "papermill": {
     "duration": 0.014051,
     "end_time": "2022-04-04T14:37:33.459955",
     "exception": false,
     "start_time": "2022-04-04T14:37:33.445904",
     "status": "completed"
    },
    "tags": []
   },
   "source": [
    "# Build Model\n",
    "\n",
    "<figure style=\"padding: 1em;\">\n",
    "<img src=\"https://i.imgur.com/V04o59Z.png\" width=\"400\" alt=\"Diagram of network architecture: BatchNorm, Dense, BatchNorm, Dropout, Dense, BatchNorm, Dropout, Dense.\">\n",
    "<figcaption style=\"textalign: center; font-style: italic\"></figcaption>\n",
    "</figure>"
   ]
  },
  {
   "cell_type": "code",
   "execution_count": 4,
   "id": "511b4981",
   "metadata": {
    "execution": {
     "iopub.execute_input": "2022-04-04T14:37:33.495531Z",
     "iopub.status.busy": "2022-04-04T14:37:33.494706Z",
     "iopub.status.idle": "2022-04-04T14:37:40.541699Z",
     "shell.execute_reply": "2022-04-04T14:37:40.542288Z",
     "shell.execute_reply.started": "2022-04-04T14:33:25.535353Z"
    },
    "lines_to_next_cell": 2,
    "papermill": {
     "duration": 7.068043,
     "end_time": "2022-04-04T14:37:40.542476",
     "exception": false,
     "start_time": "2022-04-04T14:37:33.474433",
     "status": "completed"
    },
    "tags": []
   },
   "outputs": [
    {
     "name": "stderr",
     "output_type": "stream",
     "text": [
      "2022-04-04 14:37:38.181948: I tensorflow/stream_executor/cuda/cuda_gpu_executor.cc:937] successful NUMA node read from SysFS had negative value (-1), but there must be at least one NUMA node, so returning NUMA node zero\n",
      "2022-04-04 14:37:38.270615: I tensorflow/stream_executor/cuda/cuda_gpu_executor.cc:937] successful NUMA node read from SysFS had negative value (-1), but there must be at least one NUMA node, so returning NUMA node zero\n",
      "2022-04-04 14:37:38.271304: I tensorflow/stream_executor/cuda/cuda_gpu_executor.cc:937] successful NUMA node read from SysFS had negative value (-1), but there must be at least one NUMA node, so returning NUMA node zero\n",
      "2022-04-04 14:37:38.272353: I tensorflow/core/platform/cpu_feature_guard.cc:142] This TensorFlow binary is optimized with oneAPI Deep Neural Network Library (oneDNN) to use the following CPU instructions in performance-critical operations:  AVX2 AVX512F FMA\n",
      "To enable them in other operations, rebuild TensorFlow with the appropriate compiler flags.\n",
      "2022-04-04 14:37:38.273098: I tensorflow/stream_executor/cuda/cuda_gpu_executor.cc:937] successful NUMA node read from SysFS had negative value (-1), but there must be at least one NUMA node, so returning NUMA node zero\n",
      "2022-04-04 14:37:38.273723: I tensorflow/stream_executor/cuda/cuda_gpu_executor.cc:937] successful NUMA node read from SysFS had negative value (-1), but there must be at least one NUMA node, so returning NUMA node zero\n",
      "2022-04-04 14:37:38.274326: I tensorflow/stream_executor/cuda/cuda_gpu_executor.cc:937] successful NUMA node read from SysFS had negative value (-1), but there must be at least one NUMA node, so returning NUMA node zero\n",
      "2022-04-04 14:37:40.151892: I tensorflow/stream_executor/cuda/cuda_gpu_executor.cc:937] successful NUMA node read from SysFS had negative value (-1), but there must be at least one NUMA node, so returning NUMA node zero\n",
      "2022-04-04 14:37:40.152685: I tensorflow/stream_executor/cuda/cuda_gpu_executor.cc:937] successful NUMA node read from SysFS had negative value (-1), but there must be at least one NUMA node, so returning NUMA node zero\n",
      "2022-04-04 14:37:40.153405: I tensorflow/stream_executor/cuda/cuda_gpu_executor.cc:937] successful NUMA node read from SysFS had negative value (-1), but there must be at least one NUMA node, so returning NUMA node zero\n",
      "2022-04-04 14:37:40.153985: I tensorflow/core/common_runtime/gpu/gpu_device.cc:1510] Created device /job:localhost/replica:0/task:0/device:GPU:0 with 15403 MB memory:  -> device: 0, name: Tesla P100-PCIE-16GB, pci bus id: 0000:00:04.0, compute capability: 6.0\n"
     ]
    }
   ],
   "source": [
    "# Import packages\n",
    "from tensorflow import keras\n",
    "from tensorflow.keras import layers\n",
    "\n",
    "# Define model (given in diagram)\n",
    "model = keras.Sequential([\n",
    "    layers.BatchNormalization(input_shape=input_shape),\n",
    "    layers.Dense(256, activation='relu'),\n",
    "    layers.BatchNormalization(),\n",
    "    layers.Dropout(0.3),\n",
    "    layers.Dense(256, activation='relu'),\n",
    "    layers.BatchNormalization(),\n",
    "    layers.Dropout(0.3),\n",
    "    layers.Dense(1, activation='sigmoid')\n",
    "])"
   ]
  },
  {
   "cell_type": "code",
   "execution_count": 5,
   "id": "d3c6b948",
   "metadata": {
    "execution": {
     "iopub.execute_input": "2022-04-04T14:37:40.566496Z",
     "iopub.status.busy": "2022-04-04T14:37:40.565228Z",
     "iopub.status.idle": "2022-04-04T14:37:40.577031Z",
     "shell.execute_reply": "2022-04-04T14:37:40.576586Z",
     "shell.execute_reply.started": "2022-04-04T14:33:33.374930Z"
    },
    "lines_to_next_cell": 0,
    "papermill": {
     "duration": 0.023572,
     "end_time": "2022-04-04T14:37:40.577139",
     "exception": false,
     "start_time": "2022-04-04T14:37:40.553567",
     "status": "completed"
    },
    "tags": []
   },
   "outputs": [],
   "source": [
    "# Define optimizer, loss, and metric\n",
    "model.compile(\n",
    "    optimizer='adam',\n",
    "    loss='binary_crossentropy',\n",
    "    metrics=['binary_accuracy']\n",
    ")"
   ]
  },
  {
   "cell_type": "code",
   "execution_count": 6,
   "id": "39a7aa90",
   "metadata": {
    "execution": {
     "iopub.execute_input": "2022-04-04T14:37:40.601976Z",
     "iopub.status.busy": "2022-04-04T14:37:40.601389Z",
     "iopub.status.idle": "2022-04-04T14:38:11.304406Z",
     "shell.execute_reply": "2022-04-04T14:38:11.304826Z",
     "shell.execute_reply.started": "2022-04-04T14:33:33.389507Z"
    },
    "papermill": {
     "duration": 30.71824,
     "end_time": "2022-04-04T14:38:11.305011",
     "exception": false,
     "start_time": "2022-04-04T14:37:40.586771",
     "status": "completed"
    },
    "tags": []
   },
   "outputs": [
    {
     "name": "stderr",
     "output_type": "stream",
     "text": [
      "2022-04-04 14:37:40.705422: I tensorflow/compiler/mlir/mlir_graph_optimization_pass.cc:185] None of the MLIR Optimization Passes are enabled (registered 2)\n"
     ]
    },
    {
     "name": "stdout",
     "output_type": "stream",
     "text": [
      "Epoch 1/200\n",
      "175/175 [==============================] - 3s 7ms/step - loss: 0.4823 - binary_accuracy: 0.7720 - val_loss: 0.4319 - val_binary_accuracy: 0.8103\n",
      "Epoch 2/200\n",
      "175/175 [==============================] - 1s 6ms/step - loss: 0.4222 - binary_accuracy: 0.8026 - val_loss: 0.4004 - val_binary_accuracy: 0.8153\n",
      "Epoch 3/200\n",
      "175/175 [==============================] - 1s 5ms/step - loss: 0.4102 - binary_accuracy: 0.8069 - val_loss: 0.3959 - val_binary_accuracy: 0.8178\n",
      "Epoch 4/200\n",
      "175/175 [==============================] - 1s 5ms/step - loss: 0.4015 - binary_accuracy: 0.8116 - val_loss: 0.3885 - val_binary_accuracy: 0.8215\n",
      "Epoch 5/200\n",
      "175/175 [==============================] - 1s 4ms/step - loss: 0.3977 - binary_accuracy: 0.8136 - val_loss: 0.3852 - val_binary_accuracy: 0.8242\n",
      "Epoch 6/200\n",
      "175/175 [==============================] - 1s 4ms/step - loss: 0.3922 - binary_accuracy: 0.8170 - val_loss: 0.3818 - val_binary_accuracy: 0.8231\n",
      "Epoch 7/200\n",
      "175/175 [==============================] - 1s 5ms/step - loss: 0.3902 - binary_accuracy: 0.8183 - val_loss: 0.3777 - val_binary_accuracy: 0.8268\n",
      "Epoch 8/200\n",
      "175/175 [==============================] - 1s 4ms/step - loss: 0.3853 - binary_accuracy: 0.8203 - val_loss: 0.3744 - val_binary_accuracy: 0.8288\n",
      "Epoch 9/200\n",
      "175/175 [==============================] - 1s 4ms/step - loss: 0.3814 - binary_accuracy: 0.8221 - val_loss: 0.3727 - val_binary_accuracy: 0.8318\n",
      "Epoch 10/200\n",
      "175/175 [==============================] - 1s 4ms/step - loss: 0.3797 - binary_accuracy: 0.8246 - val_loss: 0.3710 - val_binary_accuracy: 0.8324\n",
      "Epoch 11/200\n",
      "175/175 [==============================] - 1s 5ms/step - loss: 0.3776 - binary_accuracy: 0.8252 - val_loss: 0.3673 - val_binary_accuracy: 0.8331\n",
      "Epoch 12/200\n",
      "175/175 [==============================] - 1s 4ms/step - loss: 0.3755 - binary_accuracy: 0.8258 - val_loss: 0.3675 - val_binary_accuracy: 0.8328\n",
      "Epoch 13/200\n",
      "175/175 [==============================] - 1s 4ms/step - loss: 0.3728 - binary_accuracy: 0.8273 - val_loss: 0.3667 - val_binary_accuracy: 0.8334\n",
      "Epoch 14/200\n",
      "175/175 [==============================] - 1s 4ms/step - loss: 0.3711 - binary_accuracy: 0.8289 - val_loss: 0.3687 - val_binary_accuracy: 0.8332\n",
      "Epoch 15/200\n",
      "175/175 [==============================] - 1s 4ms/step - loss: 0.3685 - binary_accuracy: 0.8297 - val_loss: 0.3651 - val_binary_accuracy: 0.8346\n",
      "Epoch 16/200\n",
      "175/175 [==============================] - 1s 5ms/step - loss: 0.3678 - binary_accuracy: 0.8301 - val_loss: 0.3627 - val_binary_accuracy: 0.8350\n",
      "Epoch 17/200\n",
      "175/175 [==============================] - 1s 4ms/step - loss: 0.3649 - binary_accuracy: 0.8308 - val_loss: 0.3625 - val_binary_accuracy: 0.8359\n",
      "Epoch 18/200\n",
      "175/175 [==============================] - 1s 4ms/step - loss: 0.3639 - binary_accuracy: 0.8314 - val_loss: 0.3589 - val_binary_accuracy: 0.8365\n",
      "Epoch 19/200\n",
      "175/175 [==============================] - 1s 4ms/step - loss: 0.3628 - binary_accuracy: 0.8325 - val_loss: 0.3580 - val_binary_accuracy: 0.8364\n",
      "Epoch 20/200\n",
      "175/175 [==============================] - 1s 4ms/step - loss: 0.3602 - binary_accuracy: 0.8326 - val_loss: 0.3575 - val_binary_accuracy: 0.8387\n",
      "Epoch 21/200\n",
      "175/175 [==============================] - 1s 4ms/step - loss: 0.3587 - binary_accuracy: 0.8338 - val_loss: 0.3576 - val_binary_accuracy: 0.8387\n",
      "Epoch 22/200\n",
      "175/175 [==============================] - 1s 4ms/step - loss: 0.3583 - binary_accuracy: 0.8340 - val_loss: 0.3570 - val_binary_accuracy: 0.8371\n",
      "Epoch 23/200\n",
      "175/175 [==============================] - 1s 4ms/step - loss: 0.3567 - binary_accuracy: 0.8351 - val_loss: 0.3585 - val_binary_accuracy: 0.8379\n",
      "Epoch 24/200\n",
      "175/175 [==============================] - 1s 4ms/step - loss: 0.3558 - binary_accuracy: 0.8360 - val_loss: 0.3548 - val_binary_accuracy: 0.8391\n",
      "Epoch 25/200\n",
      "175/175 [==============================] - 1s 4ms/step - loss: 0.3537 - binary_accuracy: 0.8363 - val_loss: 0.3565 - val_binary_accuracy: 0.8399\n",
      "Epoch 26/200\n",
      "175/175 [==============================] - 1s 4ms/step - loss: 0.3535 - binary_accuracy: 0.8360 - val_loss: 0.3540 - val_binary_accuracy: 0.8394\n",
      "Epoch 27/200\n",
      "175/175 [==============================] - 1s 4ms/step - loss: 0.3511 - binary_accuracy: 0.8381 - val_loss: 0.3553 - val_binary_accuracy: 0.8387\n",
      "Epoch 28/200\n",
      "175/175 [==============================] - 1s 4ms/step - loss: 0.3508 - binary_accuracy: 0.8369 - val_loss: 0.3528 - val_binary_accuracy: 0.8404\n",
      "Epoch 29/200\n",
      "175/175 [==============================] - 1s 5ms/step - loss: 0.3490 - binary_accuracy: 0.8382 - val_loss: 0.3544 - val_binary_accuracy: 0.8419\n",
      "Epoch 30/200\n",
      "175/175 [==============================] - 1s 4ms/step - loss: 0.3489 - binary_accuracy: 0.8389 - val_loss: 0.3520 - val_binary_accuracy: 0.8392\n",
      "Epoch 31/200\n",
      "175/175 [==============================] - 1s 6ms/step - loss: 0.3465 - binary_accuracy: 0.8390 - val_loss: 0.3516 - val_binary_accuracy: 0.8421\n",
      "Epoch 32/200\n",
      "175/175 [==============================] - 1s 4ms/step - loss: 0.3460 - binary_accuracy: 0.8385 - val_loss: 0.3540 - val_binary_accuracy: 0.8393\n",
      "Epoch 33/200\n",
      "175/175 [==============================] - 1s 4ms/step - loss: 0.3462 - binary_accuracy: 0.8393 - val_loss: 0.3521 - val_binary_accuracy: 0.8412\n",
      "Epoch 34/200\n",
      "175/175 [==============================] - 1s 4ms/step - loss: 0.3442 - binary_accuracy: 0.8397 - val_loss: 0.3543 - val_binary_accuracy: 0.8381\n",
      "Epoch 35/200\n",
      "175/175 [==============================] - 1s 4ms/step - loss: 0.3426 - binary_accuracy: 0.8412 - val_loss: 0.3548 - val_binary_accuracy: 0.8376\n",
      "Epoch 36/200\n",
      "175/175 [==============================] - 1s 4ms/step - loss: 0.3427 - binary_accuracy: 0.8406 - val_loss: 0.3506 - val_binary_accuracy: 0.8406\n"
     ]
    },
    {
     "data": {
      "text/plain": [
       "<AxesSubplot:title={'center':'Accuracy'}>"
      ]
     },
     "execution_count": 6,
     "metadata": {},
     "output_type": "execute_result"
    },
    {
     "data": {
      "image/png": "[encoded data removed]",
      "text/plain": [
       "<Figure size 432x288 with 1 Axes>"
      ]
     },
     "metadata": {},
     "output_type": "display_data"
    },
    {
     "data": {
      "image/png": "[encoded data removed]",
      "text/plain": [
       "<Figure size 432x288 with 1 Axes>"
      ]
     },
     "metadata": {},
     "output_type": "display_data"
    }
   ],
   "source": [
    "# Define early stopping behaviour\n",
    "early_stopping = keras.callbacks.EarlyStopping(\n",
    "    patience=5,\n",
    "    min_delta=0.001,\n",
    "    restore_best_weights=True,\n",
    ")\n",
    "\n",
    "# Train model\n",
    "history = model.fit(\n",
    "    X_train, y_train,\n",
    "    validation_data=(X_valid, y_valid),\n",
    "    batch_size=512,\n",
    "    epochs=200,\n",
    "    callbacks=[early_stopping],\n",
    ")\n",
    "\n",
    "# Plot results\n",
    "history_df = pd.DataFrame(history.history)\n",
    "history_df.loc[:, ['loss', 'val_loss']].plot(title=\"Cross-entropy\")\n",
    "history_df.loc[:, ['binary_accuracy', 'val_binary_accuracy']].plot(title=\"Accuracy\")"
   ]
  },
  {
   "cell_type": "markdown",
   "id": "5347fa00",
   "metadata": {
    "papermill": {
     "duration": 0.164011,
     "end_time": "2022-04-04T14:38:11.663013",
     "exception": false,
     "start_time": "2022-04-04T14:38:11.499002",
     "status": "completed"
    },
    "tags": []
   },
   "source": [
    "Though we can see the training loss continuing to fall, the early stopping callback prevented any overfitting. Moreover, the accuracy rose at the same rate as the cross-entropy fell, so it appears that minimizing cross-entropy was a good stand-in. All in all, it looks like this training was a success!"
   ]
  },
  {
   "cell_type": "markdown",
   "id": "f8925dd7",
   "metadata": {
    "papermill": {
     "duration": 0.165117,
     "end_time": "2022-04-04T14:38:11.993446",
     "exception": false,
     "start_time": "2022-04-04T14:38:11.828329",
     "status": "completed"
    },
    "tags": []
   },
   "source": [
    "---\n",
    "\n",
    "\n",
    "\n",
    "\n",
    "*Have questions or comments? Visit the [course discussion forum](https://www.kaggle.com/learn/intro-to-deep-learning/discussion) to chat with other learners.*"
   ]
  }
 ],
 "metadata": {
  "kernelspec": {
   "display_name": "Python 3",
   "language": "python",
   "name": "python3"
  },
  "language_info": {
   "codemirror_mode": {
    "name": "ipython",
    "version": 3
   },
   "file_extension": ".py",
   "mimetype": "text/x-python",
   "name": "python",
   "nbconvert_exporter": "python",
   "pygments_lexer": "ipython3",
   "version": "3.7.12"
  },
  "papermill": {
   "default_parameters": {},
   "duration": 52.306889,
   "end_time": "2022-04-04T14:38:15.367643",
   "environment_variables": {},
   "exception": null,
   "input_path": "__notebook__.ipynb",
   "output_path": "__notebook__.ipynb",
   "parameters": {},
   "start_time": "2022-04-04T14:37:23.060754",
   "version": "2.3.3"
  }
 },
 "nbformat": 4,
 "nbformat_minor": 5
}
