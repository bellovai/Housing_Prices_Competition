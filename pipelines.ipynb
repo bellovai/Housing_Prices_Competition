{
 "cells": [
  {
   "cell_type": "markdown",
   "id": "16944aad",
   "metadata": {
    "papermill": {
     "duration": 0.024904,
     "end_time": "2022-03-15T14:16:54.533322",
     "exception": false,
     "start_time": "2022-03-15T14:16:54.508418",
     "status": "completed"
    },
    "tags": []
   },
   "source": [
    "**This notebook is an exercise in the [Intermediate Machine Learning](https://www.kaggle.com/learn/intermediate-machine-learning) course.  You can reference the tutorial at [this link](https://www.kaggle.com/alexisbcook/pipelines).**\n",
    "\n",
    "---\n"
   ]
  },
  {
   "cell_type": "markdown",
   "id": "b242070b",
   "metadata": {
    "papermill": {
     "duration": 0.02343,
     "end_time": "2022-03-15T14:16:54.582626",
     "exception": false,
     "start_time": "2022-03-15T14:16:54.559196",
     "status": "completed"
    },
    "tags": []
   },
   "source": [
    "# Introduction\n",
    "\n",
    "* Use **pipelines** to improve the efficiency of your machine learning code.\n",
    "* Begin by running the code cell below to set up code checking and the filepaths for the dataset."
   ]
  },
  {
   "cell_type": "code",
   "execution_count": 1,
   "id": "37dd966f",
   "metadata": {
    "execution": {
     "iopub.execute_input": "2022-03-15T14:16:54.636106Z",
     "iopub.status.busy": "2022-03-15T14:16:54.634321Z",
     "iopub.status.idle": "2022-03-15T14:16:55.744394Z",
     "shell.execute_reply": "2022-03-15T14:16:55.743602Z",
     "shell.execute_reply.started": "2022-03-15T14:15:06.251947Z"
    },
    "papermill": {
     "duration": 1.138165,
     "end_time": "2022-03-15T14:16:55.744553",
     "exception": false,
     "start_time": "2022-03-15T14:16:54.606388",
     "status": "completed"
    },
    "tags": []
   },
   "outputs": [
    {
     "name": "stdout",
     "output_type": "stream",
     "text": [
      "Setup Complete\n"
     ]
    }
   ],
   "source": [
    "# Set up code checking and filepaths\n",
    "import os\n",
    "if not os.path.exists(\"../input/train.csv\"):\n",
    "    os.symlink(\"../input/home-data-for-ml-course/train.csv\", \"../input/train.csv\")  \n",
    "    os.symlink(\"../input/home-data-for-ml-course/test.csv\", \"../input/test.csv\") \n",
    "from learntools.core import binder\n",
    "binder.bind(globals())\n",
    "from learntools.ml_intermediate.ex4 import *\n",
    "print(\"Setup Complete\")"
   ]
  },
  {
   "cell_type": "markdown",
   "id": "8c6ad489",
   "metadata": {
    "papermill": {
     "duration": 0.024917,
     "end_time": "2022-03-15T14:16:55.794391",
     "exception": false,
     "start_time": "2022-03-15T14:16:55.769474",
     "status": "completed"
    },
    "tags": []
   },
   "source": [
    "# Main"
   ]
  },
  {
   "cell_type": "code",
   "execution_count": 2,
   "id": "1c058f5e",
   "metadata": {
    "execution": {
     "iopub.execute_input": "2022-03-15T14:16:55.849668Z",
     "iopub.status.busy": "2022-03-15T14:16:55.848967Z",
     "iopub.status.idle": "2022-03-15T14:16:56.153631Z",
     "shell.execute_reply": "2022-03-15T14:16:56.152850Z",
     "shell.execute_reply.started": "2022-03-15T14:15:06.265214Z"
    },
    "papermill": {
     "duration": 0.334525,
     "end_time": "2022-03-15T14:16:56.153787",
     "exception": false,
     "start_time": "2022-03-15T14:16:55.819262",
     "status": "completed"
    },
    "tags": []
   },
   "outputs": [],
   "source": [
    "# Import packages\n",
    "import pandas as pd\n",
    "from sklearn.model_selection import train_test_split\n",
    "from sklearn.compose import ColumnTransformer\n",
    "from sklearn.pipeline import Pipeline\n",
    "from sklearn.impute import SimpleImputer\n",
    "from sklearn.preprocessing import OneHotEncoder\n",
    "from sklearn.ensemble import RandomForestRegressor\n",
    "from sklearn.metrics import mean_absolute_error"
   ]
  },
  {
   "cell_type": "code",
   "execution_count": 3,
   "id": "92e94061",
   "metadata": {
    "execution": {
     "iopub.execute_input": "2022-03-15T14:16:56.208460Z",
     "iopub.status.busy": "2022-03-15T14:16:56.207635Z",
     "iopub.status.idle": "2022-03-15T14:16:56.299029Z",
     "shell.execute_reply": "2022-03-15T14:16:56.298397Z",
     "shell.execute_reply.started": "2022-03-15T14:15:06.283585Z"
    },
    "papermill": {
     "duration": 0.120667,
     "end_time": "2022-03-15T14:16:56.299186",
     "exception": false,
     "start_time": "2022-03-15T14:16:56.178519",
     "status": "completed"
    },
    "tags": []
   },
   "outputs": [],
   "source": [
    "# Import data\n",
    "X_full = pd.read_csv('../input/train.csv', index_col='Id')\n",
    "X_test_full = pd.read_csv('../input/test.csv', index_col='Id')"
   ]
  },
  {
   "cell_type": "code",
   "execution_count": 4,
   "id": "2ccf9f71",
   "metadata": {
    "execution": {
     "iopub.execute_input": "2022-03-15T14:16:56.360341Z",
     "iopub.status.busy": "2022-03-15T14:16:56.359610Z",
     "iopub.status.idle": "2022-03-15T14:16:56.361871Z",
     "shell.execute_reply": "2022-03-15T14:16:56.361248Z",
     "shell.execute_reply.started": "2022-03-15T14:15:06.354577Z"
    },
    "papermill": {
     "duration": 0.036545,
     "end_time": "2022-03-15T14:16:56.362047",
     "exception": false,
     "start_time": "2022-03-15T14:16:56.325502",
     "status": "completed"
    },
    "tags": []
   },
   "outputs": [],
   "source": [
    "# Remove rows with missing target\n",
    "X_full.dropna(axis=0, subset=['SalePrice'], inplace=True)"
   ]
  },
  {
   "cell_type": "code",
   "execution_count": 5,
   "id": "c9387ca0",
   "metadata": {
    "execution": {
     "iopub.execute_input": "2022-03-15T14:16:56.415107Z",
     "iopub.status.busy": "2022-03-15T14:16:56.414477Z",
     "iopub.status.idle": "2022-03-15T14:16:56.421970Z",
     "shell.execute_reply": "2022-03-15T14:16:56.422546Z",
     "shell.execute_reply.started": "2022-03-15T14:15:06.368174Z"
    },
    "papermill": {
     "duration": 0.034797,
     "end_time": "2022-03-15T14:16:56.422711",
     "exception": false,
     "start_time": "2022-03-15T14:16:56.387914",
     "status": "completed"
    },
    "tags": []
   },
   "outputs": [],
   "source": [
    "# Separate target from predictors\n",
    "y = X_full.SalePrice\n",
    "X_full.drop(['SalePrice'], axis=1, inplace=True)"
   ]
  },
  {
   "cell_type": "code",
   "execution_count": 6,
   "id": "9e41a80d",
   "metadata": {
    "execution": {
     "iopub.execute_input": "2022-03-15T14:16:56.474346Z",
     "iopub.status.busy": "2022-03-15T14:16:56.473696Z",
     "iopub.status.idle": "2022-03-15T14:16:56.480090Z",
     "shell.execute_reply": "2022-03-15T14:16:56.480671Z",
     "shell.execute_reply.started": "2022-03-15T14:15:06.381743Z"
    },
    "papermill": {
     "duration": 0.033821,
     "end_time": "2022-03-15T14:16:56.480852",
     "exception": false,
     "start_time": "2022-03-15T14:16:56.447031",
     "status": "completed"
    },
    "tags": []
   },
   "outputs": [],
   "source": [
    "# Split into training and validation data\n",
    "X_train_full, X_valid_full, y_train, y_valid = train_test_split(X_full, y, train_size=0.8, test_size=0.2, random_state=0)"
   ]
  },
  {
   "cell_type": "code",
   "execution_count": 7,
   "id": "a1ff69ec",
   "metadata": {
    "execution": {
     "iopub.execute_input": "2022-03-15T14:16:56.534690Z",
     "iopub.status.busy": "2022-03-15T14:16:56.534072Z",
     "iopub.status.idle": "2022-03-15T14:16:56.556834Z",
     "shell.execute_reply": "2022-03-15T14:16:56.556229Z",
     "shell.execute_reply.started": "2022-03-15T14:15:06.404747Z"
    },
    "papermill": {
     "duration": 0.051345,
     "end_time": "2022-03-15T14:16:56.556989",
     "exception": false,
     "start_time": "2022-03-15T14:16:56.505644",
     "status": "completed"
    },
    "tags": []
   },
   "outputs": [],
   "source": [
    "# Select categorical columns with 'low' cardinality (cardinality = number of unique values in a column)\n",
    "categorical_cols = [cname for cname in X_train_full.columns if\n",
    "                    X_train_full[cname].nunique() < 10 and \n",
    "                    X_train_full[cname].dtype == \"object\"]"
   ]
  },
  {
   "cell_type": "code",
   "execution_count": 8,
   "id": "b8bf7ff9",
   "metadata": {
    "execution": {
     "iopub.execute_input": "2022-03-15T14:16:56.609033Z",
     "iopub.status.busy": "2022-03-15T14:16:56.608391Z",
     "iopub.status.idle": "2022-03-15T14:16:56.612584Z",
     "shell.execute_reply": "2022-03-15T14:16:56.613080Z",
     "shell.execute_reply.started": "2022-03-15T14:15:06.433119Z"
    },
    "papermill": {
     "duration": 0.032054,
     "end_time": "2022-03-15T14:16:56.613246",
     "exception": false,
     "start_time": "2022-03-15T14:16:56.581192",
     "status": "completed"
    },
    "tags": []
   },
   "outputs": [],
   "source": [
    "# Select numerical columns\n",
    "numerical_cols = [cname for cname in X_train_full.columns if X_train_full[cname].dtype in ['int64', 'float64']]"
   ]
  },
  {
   "cell_type": "code",
   "execution_count": 9,
   "id": "0fda7350",
   "metadata": {
    "execution": {
     "iopub.execute_input": "2022-03-15T14:16:56.665370Z",
     "iopub.status.busy": "2022-03-15T14:16:56.664725Z",
     "iopub.status.idle": "2022-03-15T14:16:56.676027Z",
     "shell.execute_reply": "2022-03-15T14:16:56.676627Z",
     "shell.execute_reply.started": "2022-03-15T14:15:06.441951Z"
    },
    "papermill": {
     "duration": 0.039026,
     "end_time": "2022-03-15T14:16:56.676806",
     "exception": false,
     "start_time": "2022-03-15T14:16:56.637780",
     "status": "completed"
    },
    "tags": []
   },
   "outputs": [],
   "source": [
    "# Keep selected columns only\n",
    "my_cols = categorical_cols + numerical_cols\n",
    "X_train = X_train_full[my_cols].copy()\n",
    "X_valid = X_valid_full[my_cols].copy()\n",
    "X_test = X_test_full[my_cols].copy()"
   ]
  },
  {
   "cell_type": "code",
   "execution_count": 10,
   "id": "3cf672e9",
   "metadata": {
    "execution": {
     "iopub.execute_input": "2022-03-15T14:16:56.729179Z",
     "iopub.status.busy": "2022-03-15T14:16:56.728545Z",
     "iopub.status.idle": "2022-03-15T14:16:56.755386Z",
     "shell.execute_reply": "2022-03-15T14:16:56.755914Z",
     "shell.execute_reply.started": "2022-03-15T14:15:06.463160Z"
    },
    "papermill": {
     "duration": 0.05485,
     "end_time": "2022-03-15T14:16:56.756093",
     "exception": false,
     "start_time": "2022-03-15T14:16:56.701243",
     "status": "completed"
    },
    "tags": []
   },
   "outputs": [
    {
     "data": {
      "text/html": [
       "<div>\n",
       "<style scoped>\n",
       "    .dataframe tbody tr th:only-of-type {\n",
       "        vertical-align: middle;\n",
       "    }\n",
       "\n",
       "    .dataframe tbody tr th {\n",
       "        vertical-align: top;\n",
       "    }\n",
       "\n",
       "    .dataframe thead th {\n",
       "        text-align: right;\n",
       "    }\n",
       "</style>\n",
       "<table border=\"1\" class=\"dataframe\">\n",
       "  <thead>\n",
       "    <tr style=\"text-align: right;\">\n",
       "      <th></th>\n",
       "      <th>MSZoning</th>\n",
       "      <th>Street</th>\n",
       "      <th>Alley</th>\n",
       "      <th>LotShape</th>\n",
       "      <th>LandContour</th>\n",
       "      <th>Utilities</th>\n",
       "      <th>LotConfig</th>\n",
       "      <th>LandSlope</th>\n",
       "      <th>Condition1</th>\n",
       "      <th>Condition2</th>\n",
       "      <th>...</th>\n",
       "      <th>GarageArea</th>\n",
       "      <th>WoodDeckSF</th>\n",
       "      <th>OpenPorchSF</th>\n",
       "      <th>EnclosedPorch</th>\n",
       "      <th>3SsnPorch</th>\n",
       "      <th>ScreenPorch</th>\n",
       "      <th>PoolArea</th>\n",
       "      <th>MiscVal</th>\n",
       "      <th>MoSold</th>\n",
       "      <th>YrSold</th>\n",
       "    </tr>\n",
       "    <tr>\n",
       "      <th>Id</th>\n",
       "      <th></th>\n",
       "      <th></th>\n",
       "      <th></th>\n",
       "      <th></th>\n",
       "      <th></th>\n",
       "      <th></th>\n",
       "      <th></th>\n",
       "      <th></th>\n",
       "      <th></th>\n",
       "      <th></th>\n",
       "      <th></th>\n",
       "      <th></th>\n",
       "      <th></th>\n",
       "      <th></th>\n",
       "      <th></th>\n",
       "      <th></th>\n",
       "      <th></th>\n",
       "      <th></th>\n",
       "      <th></th>\n",
       "      <th></th>\n",
       "      <th></th>\n",
       "    </tr>\n",
       "  </thead>\n",
       "  <tbody>\n",
       "    <tr>\n",
       "      <th>619</th>\n",
       "      <td>RL</td>\n",
       "      <td>Pave</td>\n",
       "      <td>NaN</td>\n",
       "      <td>Reg</td>\n",
       "      <td>Lvl</td>\n",
       "      <td>AllPub</td>\n",
       "      <td>Inside</td>\n",
       "      <td>Gtl</td>\n",
       "      <td>Norm</td>\n",
       "      <td>Norm</td>\n",
       "      <td>...</td>\n",
       "      <td>774</td>\n",
       "      <td>0</td>\n",
       "      <td>108</td>\n",
       "      <td>0</td>\n",
       "      <td>0</td>\n",
       "      <td>260</td>\n",
       "      <td>0</td>\n",
       "      <td>0</td>\n",
       "      <td>7</td>\n",
       "      <td>2007</td>\n",
       "    </tr>\n",
       "    <tr>\n",
       "      <th>871</th>\n",
       "      <td>RL</td>\n",
       "      <td>Pave</td>\n",
       "      <td>NaN</td>\n",
       "      <td>Reg</td>\n",
       "      <td>Lvl</td>\n",
       "      <td>AllPub</td>\n",
       "      <td>Inside</td>\n",
       "      <td>Gtl</td>\n",
       "      <td>PosN</td>\n",
       "      <td>Norm</td>\n",
       "      <td>...</td>\n",
       "      <td>308</td>\n",
       "      <td>0</td>\n",
       "      <td>0</td>\n",
       "      <td>0</td>\n",
       "      <td>0</td>\n",
       "      <td>0</td>\n",
       "      <td>0</td>\n",
       "      <td>0</td>\n",
       "      <td>8</td>\n",
       "      <td>2009</td>\n",
       "    </tr>\n",
       "    <tr>\n",
       "      <th>93</th>\n",
       "      <td>RL</td>\n",
       "      <td>Pave</td>\n",
       "      <td>Grvl</td>\n",
       "      <td>IR1</td>\n",
       "      <td>HLS</td>\n",
       "      <td>AllPub</td>\n",
       "      <td>Inside</td>\n",
       "      <td>Gtl</td>\n",
       "      <td>Norm</td>\n",
       "      <td>Norm</td>\n",
       "      <td>...</td>\n",
       "      <td>432</td>\n",
       "      <td>0</td>\n",
       "      <td>0</td>\n",
       "      <td>44</td>\n",
       "      <td>0</td>\n",
       "      <td>0</td>\n",
       "      <td>0</td>\n",
       "      <td>0</td>\n",
       "      <td>8</td>\n",
       "      <td>2009</td>\n",
       "    </tr>\n",
       "    <tr>\n",
       "      <th>818</th>\n",
       "      <td>RL</td>\n",
       "      <td>Pave</td>\n",
       "      <td>NaN</td>\n",
       "      <td>IR1</td>\n",
       "      <td>Lvl</td>\n",
       "      <td>AllPub</td>\n",
       "      <td>CulDSac</td>\n",
       "      <td>Gtl</td>\n",
       "      <td>Norm</td>\n",
       "      <td>Norm</td>\n",
       "      <td>...</td>\n",
       "      <td>857</td>\n",
       "      <td>150</td>\n",
       "      <td>59</td>\n",
       "      <td>0</td>\n",
       "      <td>0</td>\n",
       "      <td>0</td>\n",
       "      <td>0</td>\n",
       "      <td>0</td>\n",
       "      <td>7</td>\n",
       "      <td>2008</td>\n",
       "    </tr>\n",
       "    <tr>\n",
       "      <th>303</th>\n",
       "      <td>RL</td>\n",
       "      <td>Pave</td>\n",
       "      <td>NaN</td>\n",
       "      <td>IR1</td>\n",
       "      <td>Lvl</td>\n",
       "      <td>AllPub</td>\n",
       "      <td>Corner</td>\n",
       "      <td>Gtl</td>\n",
       "      <td>Norm</td>\n",
       "      <td>Norm</td>\n",
       "      <td>...</td>\n",
       "      <td>843</td>\n",
       "      <td>468</td>\n",
       "      <td>81</td>\n",
       "      <td>0</td>\n",
       "      <td>0</td>\n",
       "      <td>0</td>\n",
       "      <td>0</td>\n",
       "      <td>0</td>\n",
       "      <td>1</td>\n",
       "      <td>2006</td>\n",
       "    </tr>\n",
       "  </tbody>\n",
       "</table>\n",
       "<p>5 rows × 76 columns</p>\n",
       "</div>"
      ],
      "text/plain": [
       "    MSZoning Street Alley LotShape LandContour Utilities LotConfig LandSlope  \\\n",
       "Id                                                                             \n",
       "619       RL   Pave   NaN      Reg         Lvl    AllPub    Inside       Gtl   \n",
       "871       RL   Pave   NaN      Reg         Lvl    AllPub    Inside       Gtl   \n",
       "93        RL   Pave  Grvl      IR1         HLS    AllPub    Inside       Gtl   \n",
       "818       RL   Pave   NaN      IR1         Lvl    AllPub   CulDSac       Gtl   \n",
       "303       RL   Pave   NaN      IR1         Lvl    AllPub    Corner       Gtl   \n",
       "\n",
       "    Condition1 Condition2  ... GarageArea WoodDeckSF OpenPorchSF  \\\n",
       "Id                         ...                                     \n",
       "619       Norm       Norm  ...        774          0         108   \n",
       "871       PosN       Norm  ...        308          0           0   \n",
       "93        Norm       Norm  ...        432          0           0   \n",
       "818       Norm       Norm  ...        857        150          59   \n",
       "303       Norm       Norm  ...        843        468          81   \n",
       "\n",
       "    EnclosedPorch 3SsnPorch ScreenPorch PoolArea MiscVal MoSold YrSold  \n",
       "Id                                                                      \n",
       "619             0         0         260        0       0      7   2007  \n",
       "871             0         0           0        0       0      8   2009  \n",
       "93             44         0           0        0       0      8   2009  \n",
       "818             0         0           0        0       0      7   2008  \n",
       "303             0         0           0        0       0      1   2006  \n",
       "\n",
       "[5 rows x 76 columns]"
      ]
     },
     "execution_count": 10,
     "metadata": {},
     "output_type": "execute_result"
    }
   ],
   "source": [
    "# Output results\n",
    "X_train.head()"
   ]
  },
  {
   "cell_type": "code",
   "execution_count": 11,
   "id": "ed531bba",
   "metadata": {
    "execution": {
     "iopub.execute_input": "2022-03-15T14:16:56.810935Z",
     "iopub.status.busy": "2022-03-15T14:16:56.810282Z",
     "iopub.status.idle": "2022-03-15T14:16:56.813420Z",
     "shell.execute_reply": "2022-03-15T14:16:56.813974Z",
     "shell.execute_reply.started": "2022-03-15T14:15:06.495295Z"
    },
    "papermill": {
     "duration": 0.032139,
     "end_time": "2022-03-15T14:16:56.814157",
     "exception": false,
     "start_time": "2022-03-15T14:16:56.782018",
     "status": "completed"
    },
    "tags": []
   },
   "outputs": [],
   "source": [
    "# Preprocessing for numerical data\n",
    "numerical_transformer = SimpleImputer(strategy='mean')"
   ]
  },
  {
   "cell_type": "code",
   "execution_count": 12,
   "id": "f27b58e7",
   "metadata": {
    "execution": {
     "iopub.execute_input": "2022-03-15T14:16:56.869972Z",
     "iopub.status.busy": "2022-03-15T14:16:56.869314Z",
     "iopub.status.idle": "2022-03-15T14:16:56.870605Z",
     "shell.execute_reply": "2022-03-15T14:16:56.871189Z",
     "shell.execute_reply.started": "2022-03-15T14:15:06.510158Z"
    },
    "papermill": {
     "duration": 0.032075,
     "end_time": "2022-03-15T14:16:56.871351",
     "exception": false,
     "start_time": "2022-03-15T14:16:56.839276",
     "status": "completed"
    },
    "tags": []
   },
   "outputs": [],
   "source": [
    "# Preprocessing for categorical data\n",
    "categorical_transformer = Pipeline(steps=[\n",
    "    ('imputer', SimpleImputer(strategy='most_frequent')),\n",
    "    ('onehot', OneHotEncoder(handle_unknown='ignore'))\n",
    "])"
   ]
  },
  {
   "cell_type": "code",
   "execution_count": 13,
   "id": "475b6a69",
   "metadata": {
    "execution": {
     "iopub.execute_input": "2022-03-15T14:16:56.925616Z",
     "iopub.status.busy": "2022-03-15T14:16:56.924996Z",
     "iopub.status.idle": "2022-03-15T14:16:56.928656Z",
     "shell.execute_reply": "2022-03-15T14:16:56.929185Z",
     "shell.execute_reply.started": "2022-03-15T14:15:06.523842Z"
    },
    "papermill": {
     "duration": 0.032245,
     "end_time": "2022-03-15T14:16:56.929374",
     "exception": false,
     "start_time": "2022-03-15T14:16:56.897129",
     "status": "completed"
    },
    "tags": []
   },
   "outputs": [],
   "source": [
    "# Bundle preprocessing for numerical and categorical data\n",
    "preprocessor = ColumnTransformer(\n",
    "    transformers=[\n",
    "        ('num', numerical_transformer, numerical_cols),\n",
    "        ('cat', categorical_transformer, categorical_cols)\n",
    "    ])"
   ]
  },
  {
   "cell_type": "code",
   "execution_count": 14,
   "id": "526169b3",
   "metadata": {
    "execution": {
     "iopub.execute_input": "2022-03-15T14:16:56.983655Z",
     "iopub.status.busy": "2022-03-15T14:16:56.983058Z",
     "iopub.status.idle": "2022-03-15T14:16:56.986443Z",
     "shell.execute_reply": "2022-03-15T14:16:56.986999Z",
     "shell.execute_reply.started": "2022-03-15T14:15:06.539815Z"
    },
    "papermill": {
     "duration": 0.031864,
     "end_time": "2022-03-15T14:16:56.987167",
     "exception": false,
     "start_time": "2022-03-15T14:16:56.955303",
     "status": "completed"
    },
    "tags": []
   },
   "outputs": [],
   "source": [
    "# Define model\n",
    "model = RandomForestRegressor(n_estimators=150, random_state=0)"
   ]
  },
  {
   "cell_type": "code",
   "execution_count": 15,
   "id": "84f742e6",
   "metadata": {
    "execution": {
     "iopub.execute_input": "2022-03-15T14:16:57.042793Z",
     "iopub.status.busy": "2022-03-15T14:16:57.042150Z",
     "iopub.status.idle": "2022-03-15T14:16:57.046068Z",
     "shell.execute_reply": "2022-03-15T14:16:57.046595Z",
     "shell.execute_reply.started": "2022-03-15T14:15:06.548812Z"
    },
    "papermill": {
     "duration": 0.033854,
     "end_time": "2022-03-15T14:16:57.046764",
     "exception": false,
     "start_time": "2022-03-15T14:16:57.012910",
     "status": "completed"
    },
    "tags": []
   },
   "outputs": [],
   "source": [
    "# Bundle preprocessing and modeling code in a pipeline\n",
    "clf = Pipeline(steps=[('preprocessor', preprocessor),\n",
    "                      ('model', model)\n",
    "                     ])"
   ]
  },
  {
   "cell_type": "code",
   "execution_count": 16,
   "id": "bfb4985f",
   "metadata": {
    "execution": {
     "iopub.execute_input": "2022-03-15T14:16:57.102283Z",
     "iopub.status.busy": "2022-03-15T14:16:57.101624Z",
     "iopub.status.idle": "2022-03-15T14:17:00.472862Z",
     "shell.execute_reply": "2022-03-15T14:17:00.472332Z",
     "shell.execute_reply.started": "2022-03-15T14:15:06.564523Z"
    },
    "papermill": {
     "duration": 3.40011,
     "end_time": "2022-03-15T14:17:00.473028",
     "exception": false,
     "start_time": "2022-03-15T14:16:57.072918",
     "status": "completed"
    },
    "tags": []
   },
   "outputs": [
    {
     "data": {
      "text/plain": [
       "Pipeline(steps=[('preprocessor',\n",
       "                 ColumnTransformer(transformers=[('num', SimpleImputer(),\n",
       "                                                  ['MSSubClass', 'LotFrontage',\n",
       "                                                   'LotArea', 'OverallQual',\n",
       "                                                   'OverallCond', 'YearBuilt',\n",
       "                                                   'YearRemodAdd', 'MasVnrArea',\n",
       "                                                   'BsmtFinSF1', 'BsmtFinSF2',\n",
       "                                                   'BsmtUnfSF', 'TotalBsmtSF',\n",
       "                                                   '1stFlrSF', '2ndFlrSF',\n",
       "                                                   'LowQualFinSF', 'GrLivArea',\n",
       "                                                   'BsmtFullBath',\n",
       "                                                   'BsmtHalfBath', 'FullBath',\n",
       "                                                   'HalfBath', 'Bed...\n",
       "                                                   'Condition1', 'Condition2',\n",
       "                                                   'BldgType', 'HouseStyle',\n",
       "                                                   'RoofStyle', 'RoofMatl',\n",
       "                                                   'MasVnrType', 'ExterQual',\n",
       "                                                   'ExterCond', 'Foundation',\n",
       "                                                   'BsmtQual', 'BsmtCond',\n",
       "                                                   'BsmtExposure',\n",
       "                                                   'BsmtFinType1',\n",
       "                                                   'BsmtFinType2', 'Heating',\n",
       "                                                   'HeatingQC', 'CentralAir',\n",
       "                                                   'Electrical', 'KitchenQual',\n",
       "                                                   'Functional', 'FireplaceQu', ...])])),\n",
       "                ('model',\n",
       "                 RandomForestRegressor(n_estimators=150, random_state=0))])"
      ]
     },
     "execution_count": 16,
     "metadata": {},
     "output_type": "execute_result"
    }
   ],
   "source": [
    "# Preprocessing of training data, fit model \n",
    "clf.fit(X_train, y_train)"
   ]
  },
  {
   "cell_type": "code",
   "execution_count": 17,
   "id": "f176b29e",
   "metadata": {
    "execution": {
     "iopub.execute_input": "2022-03-15T14:17:00.528023Z",
     "iopub.status.busy": "2022-03-15T14:17:00.527367Z",
     "iopub.status.idle": "2022-03-15T14:17:00.567952Z",
     "shell.execute_reply": "2022-03-15T14:17:00.568605Z",
     "shell.execute_reply.started": "2022-03-15T14:15:10.043341Z"
    },
    "papermill": {
     "duration": 0.069953,
     "end_time": "2022-03-15T14:17:00.568778",
     "exception": false,
     "start_time": "2022-03-15T14:17:00.498825",
     "status": "completed"
    },
    "tags": []
   },
   "outputs": [],
   "source": [
    "# Preprocessing of validation data, get predictions\n",
    "preds = clf.predict(X_valid)"
   ]
  },
  {
   "cell_type": "code",
   "execution_count": 18,
   "id": "1bed8788",
   "metadata": {
    "execution": {
     "iopub.execute_input": "2022-03-15T14:17:00.624032Z",
     "iopub.status.busy": "2022-03-15T14:17:00.623371Z",
     "iopub.status.idle": "2022-03-15T14:17:00.628775Z",
     "shell.execute_reply": "2022-03-15T14:17:00.629343Z",
     "shell.execute_reply.started": "2022-03-15T14:15:10.090314Z"
    },
    "papermill": {
     "duration": 0.034856,
     "end_time": "2022-03-15T14:17:00.629515",
     "exception": false,
     "start_time": "2022-03-15T14:17:00.594659",
     "status": "completed"
    },
    "tags": []
   },
   "outputs": [
    {
     "name": "stdout",
     "output_type": "stream",
     "text": [
      "MAE: 17349.338242009133\n"
     ]
    }
   ],
   "source": [
    "# Output results\n",
    "print('MAE:', mean_absolute_error(y_valid, preds))"
   ]
  },
  {
   "cell_type": "code",
   "execution_count": 19,
   "id": "8aee3c7a",
   "metadata": {
    "execution": {
     "iopub.execute_input": "2022-03-15T14:17:00.685037Z",
     "iopub.status.busy": "2022-03-15T14:17:00.684325Z",
     "iopub.status.idle": "2022-03-15T14:17:00.687788Z",
     "shell.execute_reply": "2022-03-15T14:17:00.688393Z",
     "shell.execute_reply.started": "2022-03-15T14:15:10.098240Z"
    },
    "papermill": {
     "duration": 0.03311,
     "end_time": "2022-03-15T14:17:00.688563",
     "exception": false,
     "start_time": "2022-03-15T14:17:00.655453",
     "status": "completed"
    },
    "tags": []
   },
   "outputs": [],
   "source": [
    "# Bundle preprocessing and modeling code in a pipeline\n",
    "my_pipeline = Pipeline(steps=[('preprocessor', preprocessor),\n",
    "                              ('model', model)\n",
    "                             ])"
   ]
  },
  {
   "cell_type": "code",
   "execution_count": 20,
   "id": "f06d6aed",
   "metadata": {
    "execution": {
     "iopub.execute_input": "2022-03-15T14:17:00.750407Z",
     "iopub.status.busy": "2022-03-15T14:17:00.749695Z",
     "iopub.status.idle": "2022-03-15T14:17:00.848802Z",
     "shell.execute_reply": "2022-03-15T14:17:00.848261Z",
     "shell.execute_reply.started": "2022-03-15T14:15:10.110870Z"
    },
    "papermill": {
     "duration": 0.131403,
     "end_time": "2022-03-15T14:17:00.849041",
     "exception": false,
     "start_time": "2022-03-15T14:17:00.717638",
     "status": "completed"
    },
    "tags": []
   },
   "outputs": [
    {
     "data": {
      "application/javascript": [
       "parent.postMessage({\"jupyterEvent\": \"custom.exercise_interaction\", \"data\": {\"outcomeType\": 1, \"valueTowardsCompletion\": 1.0, \"interactionType\": 1, \"questionType\": 2, \"questionId\": \"2_TestPreds\", \"learnToolsVersion\": \"0.3.4\", \"failureMessage\": \"\", \"exceptionClass\": \"\", \"trace\": \"\"}}, \"*\")"
      ],
      "text/plain": [
       "<IPython.core.display.Javascript object>"
      ]
     },
     "metadata": {},
     "output_type": "display_data"
    },
    {
     "data": {
      "text/markdown": [
       "<span style=\"color:#33cc33\">Correct</span>"
      ],
      "text/plain": [
       "Correct"
      ]
     },
     "metadata": {},
     "output_type": "display_data"
    }
   ],
   "source": [
    "# Preprocessing of test data, fit and check model\n",
    "preds_test = my_pipeline.predict(X_test)\n",
    "step_2.check()"
   ]
  },
  {
   "cell_type": "code",
   "execution_count": 21,
   "id": "546d8d89",
   "metadata": {
    "execution": {
     "iopub.execute_input": "2022-03-15T14:17:00.911325Z",
     "iopub.status.busy": "2022-03-15T14:17:00.910604Z",
     "iopub.status.idle": "2022-03-15T14:17:00.920403Z",
     "shell.execute_reply": "2022-03-15T14:17:00.920944Z",
     "shell.execute_reply.started": "2022-03-15T14:15:10.227419Z"
    },
    "papermill": {
     "duration": 0.043934,
     "end_time": "2022-03-15T14:17:00.921116",
     "exception": false,
     "start_time": "2022-03-15T14:17:00.877182",
     "status": "completed"
    },
    "tags": []
   },
   "outputs": [],
   "source": [
    "# Save test predictions to file\n",
    "output = pd.DataFrame({'Id': X_test.index,\n",
    "                       'SalePrice': preds_test})\n",
    "output.to_csv('submission.csv', index=False)"
   ]
  },
  {
   "cell_type": "markdown",
   "id": "cb7124ba",
   "metadata": {
    "papermill": {
     "duration": 0.026828,
     "end_time": "2022-03-15T14:17:00.975176",
     "exception": false,
     "start_time": "2022-03-15T14:17:00.948348",
     "status": "completed"
    },
    "tags": []
   },
   "source": [
    "---\n",
    "\n",
    "\n",
    "\n",
    "\n",
    "*Have questions or comments? Visit the [course discussion forum](https://www.kaggle.com/learn/intermediate-machine-learning/discussion) to chat with other learners.*"
   ]
  }
 ],
 "metadata": {
  "kernelspec": {
   "display_name": "Python 3",
   "language": "python",
   "name": "python3"
  },
  "language_info": {
   "codemirror_mode": {
    "name": "ipython",
    "version": 3
   },
   "file_extension": ".py",
   "mimetype": "text/x-python",
   "name": "python",
   "nbconvert_exporter": "python",
   "pygments_lexer": "ipython3",
   "version": "3.7.12"
  },
  "papermill": {
   "default_parameters": {},
   "duration": 17.426791,
   "end_time": "2022-03-15T14:17:01.713338",
   "environment_variables": {},
   "exception": null,
   "input_path": "__notebook__.ipynb",
   "output_path": "__notebook__.ipynb",
   "parameters": {},
   "start_time": "2022-03-15T14:16:44.286547",
   "version": "2.3.3"
  }
 },
 "nbformat": 4,
 "nbformat_minor": 5
}
